{
 "cells": [
  {
   "cell_type": "markdown",
   "id": "539d2191",
   "metadata": {},
   "source": [
    "# Combine MERFISH FICTURE results in spatialdata object\n",
    "- for a given sample, create spatial data object\n",
    "- iterate over all available FICTURE outputs:\n",
    "    - add pixel-level factors to sdata object\n",
    "    - calculate transcript-level factors, merge them, and add to sdata object"
   ]
  },
  {
   "cell_type": "code",
   "execution_count": 1,
   "id": "f06c897f",
   "metadata": {},
   "outputs": [],
   "source": [
    "import warnings\n",
    "\n",
    "warnings.filterwarnings(\"ignore\", category=FutureWarning)"
   ]
  },
  {
   "cell_type": "code",
   "execution_count": null,
   "id": "276d5c4f",
   "metadata": {},
   "outputs": [],
   "source": [
    "import json\n",
    "import os\n",
    "from datetime import date\n",
    "\n",
    "import dask\n",
    "\n",
    "dask.config.set({\"dataframe.query-planning\": False})"
   ]
  },
  {
   "cell_type": "code",
   "execution_count": null,
   "id": "f236af7c",
   "metadata": {},
   "outputs": [],
   "source": [
    "import dask.dataframe as dd\n",
    "import numpy as np\n",
    "import spatialdata\n",
    "import spatialdata_io\n",
    "from scipy.spatial import KDTree\n",
    "from spatialdata.models import PointsModel"
   ]
  },
  {
   "cell_type": "code",
   "execution_count": 3,
   "id": "744e6248",
   "metadata": {},
   "outputs": [],
   "source": [
    "import sys\n",
    "\n",
    "sys.path.append(\"/home\")\n",
    "import src.ficture_utils as ficture_utils"
   ]
  },
  {
   "cell_type": "code",
   "execution_count": 4,
   "id": "fb1a9a7d",
   "metadata": {},
   "outputs": [
    {
     "name": "stdout",
     "output_type": "stream",
     "text": [
      "total 7249\n",
      "drwxr-xr-x 3 ra98gaq pn52ra    4096 Mar 12 21:26 \u001b[0m\u001b[01;34mABCAtlas-marker-genes\u001b[0m/\n",
      "-rw-r--r-- 1 ra98gaq pn52ra 2320993 Mar 12 20:11 add_mosaic_to_spatialdata.ipynb\n",
      "-rw-r--r-- 1 ra98gaq pn52ra   36199 Mar 12 20:11 create_main_sdata_and_add_adatas.ipynb\n",
      "-rw-r--r-- 1 ra98gaq pn52ra  805906 Mar 12 21:25 ficture_annotation_loop.ipynb\n",
      "-rw-r--r-- 1 ra98gaq pn52ra 1439703 Mar 12 20:27 ficture_annotation_preliminary.ipynb\n",
      "-rw-r--r-- 1 ra98gaq pn52ra   36163 Mar 12 20:11 ficture_convert_to_spatialdata.ipynb\n",
      "-rw-r--r-- 1 ra98gaq pn52ra  558975 Mar 13 12:58 metrics_cellpose1-todo.ipynb\n",
      "-rw-r--r-- 1 ra98gaq pn52ra  157873 Mar 12 16:02 outdated-ficture_convert_to_spatialdata.ipynb\n",
      "-rw-r--r-- 1 ra98gaq pn52ra 2015850 Mar 12 16:02 outdated-ficture_convert_to_spatialdata2.ipynb\n",
      "-rw-r--r-- 1 ra98gaq pn52ra    6228 Feb  7 18:47 symlink-notused.ipynb\n"
     ]
    }
   ],
   "source": [
    "%ls -l"
   ]
  },
  {
   "cell_type": "code",
   "execution_count": 6,
   "id": "8a717a62",
   "metadata": {},
   "outputs": [
    {
     "name": "stdout",
     "output_type": "stream",
     "text": [
      "lrwxrwxrwx 1 ra98gaq pn52ra 53 Mar 12 17:01 /dss/dsshome1/0C/ra98gaq/Git/cellseg-benchmark/data -> /dss/dssfs03/pn52re/pn52re-dss-0001/cellseg-benchmark\n"
     ]
    }
   ],
   "source": [
    "data_dir = os.path.abspath(\"../data\")\n",
    "!ls -l $data_dir"
   ]
  },
  {
   "cell_type": "code",
   "execution_count": 7,
   "id": "19c7a2ab",
   "metadata": {},
   "outputs": [
    {
     "name": "stdout",
     "output_type": "stream",
     "text": [
      "lrwxrwxrwx 1 ra98gaq pn52ra 35 Mar 12 17:02 /dss/dsshome1/0C/ra98gaq/Git/cellseg-benchmark/archive -> /dss/dssfs03/pn52re/pn52re-dss-0000\n"
     ]
    }
   ],
   "source": [
    "archive_dir = os.path.abspath(\"../archive\")\n",
    "!ls -l $archive_dir"
   ]
  },
  {
   "cell_type": "code",
   "execution_count": 8,
   "id": "fd1f4733",
   "metadata": {},
   "outputs": [
    {
     "data": {
      "text/plain": [
       "'foxf2_s2_r1'"
      ]
     },
     "execution_count": 8,
     "metadata": {},
     "output_type": "execute_result"
    }
   ],
   "source": [
    "cohort_name = \"foxf2\"\n",
    "slide_name = \"s2\"\n",
    "region_name = \"r1\"\n",
    "sample_name = f\"{cohort_name}_{slide_name}_{region_name}\"\n",
    "sdata_file = os.path.join(\n",
    "    data_dir, \"samples\", sample_name, \"results\", \"Ficture\", \"sdata.zarr\"\n",
    ")\n",
    "sample_name"
   ]
  },
  {
   "cell_type": "code",
   "execution_count": 9,
   "id": "a007456c",
   "metadata": {},
   "outputs": [
    {
     "data": {
      "text/plain": [
       "'/dss/dsshome1/0C/ra98gaq/Git/cellseg-benchmark/data/samples/foxf2_s2_r1/results/Ficture/sdata.zarr'"
      ]
     },
     "execution_count": 9,
     "metadata": {},
     "output_type": "execute_result"
    }
   ],
   "source": [
    "os.path.join(data_dir, \"samples\", sample_name, \"results\", \"Ficture\", \"sdata.zarr\")"
   ]
  },
  {
   "cell_type": "code",
   "execution_count": 10,
   "id": "ab83d1dd",
   "metadata": {},
   "outputs": [],
   "source": [
    "# get path to merscope output data\n",
    "with open(os.path.join(data_dir, \"sample_paths.json\")) as file:\n",
    "    sample_paths = json.load(file)"
   ]
  },
  {
   "cell_type": "markdown",
   "id": "8168183e",
   "metadata": {},
   "source": [
    "## Create spatialdata object\n",
    "Will overwrite existing objects"
   ]
  },
  {
   "cell_type": "code",
   "execution_count": 13,
   "id": "da6b6334",
   "metadata": {},
   "outputs": [
    {
     "name": "stdout",
     "output_type": "stream",
     "text": [
      "\u001b[34mINFO    \u001b[0m The column \u001b[32m\"global_x\"\u001b[0m has now been renamed to \u001b[32m\"x\"\u001b[0m; the column \u001b[32m\"x\"\u001b[0m was already present in the dataframe,   \n",
      "         and will be dropped.                                                                                      \n",
      "\u001b[34mINFO    \u001b[0m The column \u001b[32m\"global_y\"\u001b[0m has now been renamed to \u001b[32m\"y\"\u001b[0m; the column \u001b[32m\"y\"\u001b[0m was already present in the dataframe,   \n",
      "         and will be dropped.                                                                                      \n"
     ]
    },
    {
     "name": "stderr",
     "output_type": "stream",
     "text": [
      "/dss/dsshome1/0C/ra98gaq/miniconda3/envs/sdata/lib/python3.11/functools.py:946: UserWarning: The index of the dataframe is not monotonic increasing. It is recommended to sort the data to adjust the order of the index before calling .parse() (or call `parse(sort=True)`) to avoid possible problems due to unknown divisions.\n",
      "  return method.__get__(obj, cls)(*args, **kwargs)\n"
     ]
    },
    {
     "name": "stdout",
     "output_type": "stream",
     "text": [
      "\u001b[34mINFO    \u001b[0m The Zarr backing store has been changed from \u001b[3;35mNone\u001b[0m the new file path:                                      \n",
      "         \u001b[35m/dss/dsshome1/0C/ra98gaq/Git/st-bsb--finish-then-update/data/cellseg-benchmark/spatialdata-objects/foxf2_s\u001b[0m\n",
      "         \u001b[35m2_r1/\u001b[0m\u001b[95msdata.zarr\u001b[0m                                                                                           \n"
     ]
    }
   ],
   "source": [
    "# create and save sdata object\n",
    "sdata = spatialdata_io.merscope(\n",
    "    sample_paths[sample_name],\n",
    "    z_layers=None,\n",
    "    cells_boundaries=True,\n",
    "    mosaic_images=False,\n",
    "    slide_name=f\"{cohort_name}_{slide_name}\",\n",
    "    region_name=region_name,\n",
    ")\n",
    "os.makedirs(os.path.dirname(sdata_file), exist_ok=True)\n",
    "sdata.write(sdata_file, overwrite=True)"
   ]
  },
  {
   "cell_type": "code",
   "execution_count": 10,
   "id": "3af6e420",
   "metadata": {},
   "outputs": [],
   "source": [
    "if \"sdata\" not in globals():\n",
    "    sdata = spatialdata.read_zarr(sdata_file)"
   ]
  },
  {
   "cell_type": "code",
   "execution_count": 11,
   "id": "5a2a205e",
   "metadata": {},
   "outputs": [
    {
     "data": {
      "text/plain": [
       "SpatialData object, with associated Zarr store: /dss/dssfs03/pn52re/pn52re-dss-0001/cellseg-benchmark/samples/foxf2_s2_r1/results/Ficture/sdata.zarr\n",
       "├── Points\n",
       "│     ├── 'foxf2_s2_r1_all_transcript_factors': DataFrame with shape: (<Delayed>, 13) (2D points)\n",
       "│     ├── 'foxf2_s2_r1_nF5_pixel_factors': DataFrame with shape: (<Delayed>, 11) (2D points)\n",
       "│     ├── 'foxf2_s2_r1_nF10_pixel_factors': DataFrame with shape: (<Delayed>, 11) (2D points)\n",
       "│     ├── 'foxf2_s2_r1_nF20_pixel_factors': DataFrame with shape: (<Delayed>, 11) (2D points)\n",
       "│     ├── 'foxf2_s2_r1_nF21_pixel_factors': DataFrame with shape: (<Delayed>, 11) (2D points)\n",
       "│     ├── 'foxf2_s2_r1_nF25_pixel_factors': DataFrame with shape: (<Delayed>, 11) (2D points)\n",
       "│     ├── 'foxf2_s2_r1_nF28_pixel_factors': DataFrame with shape: (<Delayed>, 11) (2D points)\n",
       "│     ├── 'foxf2_s2_r1_nF30_pixel_factors': DataFrame with shape: (<Delayed>, 11) (2D points)\n",
       "│     ├── 'foxf2_s2_r1_nF50_pixel_factors': DataFrame with shape: (<Delayed>, 11) (2D points)\n",
       "│     └── 'foxf2_s2_r1_transcripts': DataFrame with shape: (<Delayed>, 9) (2D points)\n",
       "├── Shapes\n",
       "│     └── 'foxf2_s2_r1_polygons': GeoDataFrame shape: (107013, 9) (2D shapes)\n",
       "└── Tables\n",
       "      └── 'table': AnnData (107013, 500)\n",
       "with coordinate systems:\n",
       "    ▸ 'global', with elements:\n",
       "        foxf2_s2_r1_all_transcript_factors (Points), foxf2_s2_r1_nF5_pixel_factors (Points), foxf2_s2_r1_nF10_pixel_factors (Points), foxf2_s2_r1_nF20_pixel_factors (Points), foxf2_s2_r1_nF21_pixel_factors (Points), foxf2_s2_r1_nF25_pixel_factors (Points), foxf2_s2_r1_nF28_pixel_factors (Points), foxf2_s2_r1_nF30_pixel_factors (Points), foxf2_s2_r1_nF50_pixel_factors (Points), foxf2_s2_r1_transcripts (Points), foxf2_s2_r1_polygons (Shapes)"
      ]
     },
     "execution_count": 11,
     "metadata": {},
     "output_type": "execute_result"
    }
   ],
   "source": [
    "sdata"
   ]
  },
  {
   "cell_type": "code",
   "execution_count": 12,
   "id": "c1f61c62",
   "metadata": {},
   "outputs": [
    {
     "data": {
      "text/html": [
       "<div>\n",
       "<style scoped>\n",
       "    .dataframe tbody tr th:only-of-type {\n",
       "        vertical-align: middle;\n",
       "    }\n",
       "\n",
       "    .dataframe tbody tr th {\n",
       "        vertical-align: top;\n",
       "    }\n",
       "\n",
       "    .dataframe thead th {\n",
       "        text-align: right;\n",
       "    }\n",
       "</style>\n",
       "<table border=\"1\" class=\"dataframe\">\n",
       "  <thead>\n",
       "    <tr style=\"text-align: right;\">\n",
       "      <th></th>\n",
       "      <th>x</th>\n",
       "      <th>y</th>\n",
       "      <th>gene</th>\n",
       "      <th>global_z</th>\n",
       "      <th>transcript_id</th>\n",
       "      <th>fov</th>\n",
       "      <th>barcode_id</th>\n",
       "      <th>cell_id</th>\n",
       "      <th>Unnamed: 0</th>\n",
       "    </tr>\n",
       "  </thead>\n",
       "  <tbody>\n",
       "    <tr>\n",
       "      <th>0</th>\n",
       "      <td>7136.4756</td>\n",
       "      <td>2356.3298</td>\n",
       "      <td>Igf2</td>\n",
       "      <td>0.0</td>\n",
       "      <td>ENSMUST00000000033</td>\n",
       "      <td>461</td>\n",
       "      <td>0</td>\n",
       "      <td>1865558700069100825</td>\n",
       "      <td>107</td>\n",
       "    </tr>\n",
       "    <tr>\n",
       "      <th>1</th>\n",
       "      <td>7138.1094</td>\n",
       "      <td>2360.3838</td>\n",
       "      <td>Cfp</td>\n",
       "      <td>0.0</td>\n",
       "      <td>ENSMUST00000001156</td>\n",
       "      <td>461</td>\n",
       "      <td>8</td>\n",
       "      <td>1865558700069100825</td>\n",
       "      <td>22</td>\n",
       "    </tr>\n",
       "    <tr>\n",
       "      <th>2</th>\n",
       "      <td>7136.9727</td>\n",
       "      <td>2356.9917</td>\n",
       "      <td>Slc3a2</td>\n",
       "      <td>0.0</td>\n",
       "      <td>ENSMUST00000010239</td>\n",
       "      <td>461</td>\n",
       "      <td>44</td>\n",
       "      <td>1865558700069100825</td>\n",
       "      <td>84</td>\n",
       "    </tr>\n",
       "  </tbody>\n",
       "</table>\n",
       "</div>"
      ],
      "text/plain": [
       "           x          y    gene  global_z       transcript_id  fov  \\\n",
       "0  7136.4756  2356.3298    Igf2       0.0  ENSMUST00000000033  461   \n",
       "1  7138.1094  2360.3838     Cfp       0.0  ENSMUST00000001156  461   \n",
       "2  7136.9727  2356.9917  Slc3a2       0.0  ENSMUST00000010239  461   \n",
       "\n",
       "   barcode_id              cell_id  Unnamed: 0  \n",
       "0           0  1865558700069100825         107  \n",
       "1           8  1865558700069100825          22  \n",
       "2          44  1865558700069100825          84  "
      ]
     },
     "execution_count": 12,
     "metadata": {},
     "output_type": "execute_result"
    }
   ],
   "source": [
    "sdata[f\"{sample_name}_transcripts\"].head(3)"
   ]
  },
  {
   "cell_type": "code",
   "execution_count": 13,
   "id": "201e91ac",
   "metadata": {},
   "outputs": [
    {
     "data": {
      "text/plain": [
       "np.int64(1302)"
      ]
     },
     "execution_count": 13,
     "metadata": {},
     "output_type": "execute_result"
    }
   ],
   "source": [
    "sdata[f\"{sample_name}_transcripts\"][\"fov\"].compute().max()"
   ]
  },
  {
   "cell_type": "markdown",
   "id": "ef411366",
   "metadata": {},
   "source": [
    "## Get pixel-level and transcript-level factors\n",
    "- iterates over all available factors for given sample\n",
    "- adds pixel-level factors as separate \"point\" objects to sdata\n",
    "- extract transcript-level factors and export as merged table, plus add as \"point\" object to sdata"
   ]
  },
  {
   "cell_type": "code",
   "execution_count": 14,
   "id": "6d874348",
   "metadata": {},
   "outputs": [
    {
     "data": {
      "text/plain": [
       "['nF50.d_6',\n",
       " 'nF28.d_6-bulkRNAseq-inclzonation',\n",
       " 'nF10.d_6',\n",
       " 'nF30.d_6',\n",
       " 'nF5.d_6',\n",
       " 'nF25.d_6',\n",
       " 'nF21.d_6-bulkRNAseq-exclMBP',\n",
       " 'nF20.d_6']"
      ]
     },
     "execution_count": 14,
     "metadata": {},
     "output_type": "execute_result"
    }
   ],
   "source": [
    "all_factors_dir = os.listdir(\n",
    "    os.path.join(data_dir, \"samples\", sample_name, \"results\", \"Ficture\", \"output\")\n",
    ")\n",
    "all_factors_dir"
   ]
  },
  {
   "cell_type": "code",
   "execution_count": 15,
   "id": "ec90a479",
   "metadata": {},
   "outputs": [
    {
     "data": {
      "text/plain": [
       "['nF50', 'nF28', 'nF10', 'nF30', 'nF5', 'nF25', 'nF21', 'nF20']"
      ]
     },
     "execution_count": 15,
     "metadata": {},
     "output_type": "execute_result"
    }
   ],
   "source": [
    "all_factors = [f.split(\".\")[0] for f in all_factors_dir]\n",
    "all_factors"
   ]
  },
  {
   "cell_type": "code",
   "execution_count": 20,
   "id": "b8972d1d",
   "metadata": {},
   "outputs": [
    {
     "name": "stderr",
     "output_type": "stream",
     "text": [
      "Loading data: 9304it [00:57, 162.32it/s]                          \n",
      "Loading data: 6378it [00:36, 175.11it/s]                          \n",
      "Loading data: 9243it [00:51, 179.73it/s]                          \n",
      "Loading data: 9261it [00:54, 170.10it/s]                          \n",
      "Loading data: 9230it [00:50, 184.53it/s]                          \n",
      "Loading data: 9224it [00:53, 171.14it/s]                          \n",
      "Loading data: 6349it [00:36, 175.04it/s]                          \n",
      "Loading data: 9229it [00:53, 172.20it/s]                          \n"
     ]
    }
   ],
   "source": [
    "base_cols = [\"x\", \"y\", \"global_z\", \"gene\", \"transcript_id\"]\n",
    "\n",
    "# Initialize with first factor\n",
    "factor_folder_0 = next(\n",
    "    f for f in all_factors_dir if f.startswith(all_factors[0] + \".\")\n",
    ")  # match name in case contains text label\n",
    "pixel_level_factors_file = os.path.join(\n",
    "    data_dir,\n",
    "    \"samples\",\n",
    "    sample_name,\n",
    "    \"results\",\n",
    "    \"Ficture\",\n",
    "    \"output\",\n",
    "    f\"{factor_folder_0}\",\n",
    "    f\"{all_factors[0]}.d_6.prj_6.r_4_5.pixel.sorted.tsv.gz\",\n",
    ")\n",
    "metadata = ficture_utils.parse_metadata(pixel_level_factors_file)\n",
    "df = ficture_utils.load_pixel_tsv(pixel_level_factors_file)\n",
    "df = ficture_utils.process_coordinates(df, metadata)\n",
    "\n",
    "# Update pixel-level factors to sdata\n",
    "dask_df = dd.from_pandas(df, npartitions=96)\n",
    "dask_df = PointsModel.parse(dask_df)\n",
    "sdata[f\"{sample_name}_{all_factors[0]}_pixel_factors\"] = dask_df\n",
    "sdata.write_element(f\"{sample_name}_{all_factors[0]}_pixel_factors\", overwrite=True)\n",
    "\n",
    "coords = np.array([df[\"x\"], df[\"y\"]]).T\n",
    "tree = KDTree(\n",
    "    coords, leafsize=10, compact_nodes=True, copy_data=False, balanced_tree=True\n",
    ")\n",
    "\n",
    "# Start with first factor's data\n",
    "transcripts = sdata[f\"{sample_name}_transcripts\"]\n",
    "all_transcript_factors = transcripts.map_partitions(\n",
    "    ficture_utils.get_transcript_level_factors,\n",
    "    tree=tree,\n",
    "    df=df,\n",
    "    metadata=metadata,\n",
    "    current_factor=all_factors[0],\n",
    ")\n",
    "\n",
    "# Subset genes for test run\n",
    "# test_geneset = [\"Igf2\", \"Cfp\"]\n",
    "# all_transcript_factors = all_transcript_factors[all_transcript_factors[\"gene\"].isin(test_geneset)]\n",
    "\n",
    "# Process remaining factors\n",
    "for factor in all_factors[1:]:\n",
    "    # Parse and process pixel-level factors\n",
    "    factor_folder = next(f for f in all_factors_dir if f.startswith(factor + \".\"))\n",
    "    pixel_level_factors_file = os.path.join(\n",
    "        data_dir,\n",
    "        \"samples\",\n",
    "        sample_name,\n",
    "        \"results\",\n",
    "        \"Ficture\",\n",
    "        \"output\",\n",
    "        f\"{factor_folder}\",\n",
    "        f\"{factor}.d_6.prj_6.r_4_5.pixel.sorted.tsv.gz\",\n",
    "    )\n",
    "    metadata = ficture_utils.parse_metadata(pixel_level_factors_file)\n",
    "    df = ficture_utils.load_pixel_tsv(pixel_level_factors_file)\n",
    "    df = ficture_utils.process_coordinates(df, metadata)\n",
    "\n",
    "    # Update pixel-level factors to sdata\n",
    "    dask_df = dd.from_pandas(df, npartitions=96)\n",
    "    dask_df = PointsModel.parse(dask_df)\n",
    "    sdata[f\"{sample_name}_{factor}_pixel_factors\"] = dask_df\n",
    "    sdata.write_element(f\"{sample_name}_{factor}_pixel_factors\", overwrite=True)\n",
    "\n",
    "    # Create KDTree for this iteration's pixels\n",
    "    coords = np.array([df[\"x\"], df[\"y\"]]).T\n",
    "    tree = KDTree(\n",
    "        coords, leafsize=10, compact_nodes=True, copy_data=False, balanced_tree=True\n",
    "    )\n",
    "\n",
    "    # Get transcript-level factors\n",
    "    all_transcript_factors = all_transcript_factors.map_partitions(\n",
    "        ficture_utils.get_transcript_level_factors,\n",
    "        tree=tree,\n",
    "        df=df,\n",
    "        metadata=metadata,\n",
    "        current_factor=factor,\n",
    "    )\n",
    "\n",
    "# Final cleanup\n",
    "result = all_transcript_factors[\n",
    "    base_cols + [f\"{factor}_factors\" for factor in all_factors]\n",
    "].reset_index(drop=True)\n",
    "\n",
    "# Validate that each factor has >= 2 unique values (in a subset for speed)\n",
    "sample = result.head(1000)\n",
    "validation = {\n",
    "    col: len(sample[col].unique()) > 1 for col in sample.columns if \"_factors\" in col\n",
    "}\n",
    "assert all(validation.values()), f\"Invalid factors: {validation}\""
   ]
  },
  {
   "cell_type": "code",
   "execution_count": 21,
   "id": "f704ec7b",
   "metadata": {},
   "outputs": [
    {
     "data": {
      "text/html": [
       "<div>\n",
       "<style scoped>\n",
       "    .dataframe tbody tr th:only-of-type {\n",
       "        vertical-align: middle;\n",
       "    }\n",
       "\n",
       "    .dataframe tbody tr th {\n",
       "        vertical-align: top;\n",
       "    }\n",
       "\n",
       "    .dataframe thead th {\n",
       "        text-align: right;\n",
       "    }\n",
       "</style>\n",
       "<table border=\"1\" class=\"dataframe\">\n",
       "  <thead>\n",
       "    <tr style=\"text-align: right;\">\n",
       "      <th></th>\n",
       "      <th>x</th>\n",
       "      <th>y</th>\n",
       "      <th>global_z</th>\n",
       "      <th>gene</th>\n",
       "      <th>transcript_id</th>\n",
       "      <th>nF50_factors</th>\n",
       "      <th>nF28_factors</th>\n",
       "      <th>nF10_factors</th>\n",
       "      <th>nF30_factors</th>\n",
       "      <th>nF5_factors</th>\n",
       "      <th>nF25_factors</th>\n",
       "      <th>nF21_factors</th>\n",
       "      <th>nF20_factors</th>\n",
       "    </tr>\n",
       "  </thead>\n",
       "  <tbody>\n",
       "    <tr>\n",
       "      <th>0</th>\n",
       "      <td>7136.4756</td>\n",
       "      <td>2356.3298</td>\n",
       "      <td>0.0</td>\n",
       "      <td>Igf2</td>\n",
       "      <td>ENSMUST00000000033</td>\n",
       "      <td>50</td>\n",
       "      <td>28</td>\n",
       "      <td>10</td>\n",
       "      <td>30</td>\n",
       "      <td>5</td>\n",
       "      <td>25</td>\n",
       "      <td>21</td>\n",
       "      <td>20</td>\n",
       "    </tr>\n",
       "    <tr>\n",
       "      <th>1</th>\n",
       "      <td>7138.1094</td>\n",
       "      <td>2360.3838</td>\n",
       "      <td>0.0</td>\n",
       "      <td>Cfp</td>\n",
       "      <td>ENSMUST00000001156</td>\n",
       "      <td>50</td>\n",
       "      <td>28</td>\n",
       "      <td>10</td>\n",
       "      <td>30</td>\n",
       "      <td>5</td>\n",
       "      <td>25</td>\n",
       "      <td>21</td>\n",
       "      <td>20</td>\n",
       "    </tr>\n",
       "    <tr>\n",
       "      <th>2</th>\n",
       "      <td>7136.9727</td>\n",
       "      <td>2356.9917</td>\n",
       "      <td>0.0</td>\n",
       "      <td>Slc3a2</td>\n",
       "      <td>ENSMUST00000010239</td>\n",
       "      <td>50</td>\n",
       "      <td>28</td>\n",
       "      <td>10</td>\n",
       "      <td>30</td>\n",
       "      <td>5</td>\n",
       "      <td>25</td>\n",
       "      <td>21</td>\n",
       "      <td>20</td>\n",
       "    </tr>\n",
       "    <tr>\n",
       "      <th>3</th>\n",
       "      <td>7135.1360</td>\n",
       "      <td>2357.4858</td>\n",
       "      <td>0.0</td>\n",
       "      <td>Slc3a2</td>\n",
       "      <td>ENSMUST00000010239</td>\n",
       "      <td>50</td>\n",
       "      <td>28</td>\n",
       "      <td>10</td>\n",
       "      <td>30</td>\n",
       "      <td>5</td>\n",
       "      <td>25</td>\n",
       "      <td>21</td>\n",
       "      <td>20</td>\n",
       "    </tr>\n",
       "    <tr>\n",
       "      <th>4</th>\n",
       "      <td>7137.8364</td>\n",
       "      <td>2359.2458</td>\n",
       "      <td>0.0</td>\n",
       "      <td>Slc47a1</td>\n",
       "      <td>ENSMUST00000010267</td>\n",
       "      <td>50</td>\n",
       "      <td>28</td>\n",
       "      <td>10</td>\n",
       "      <td>30</td>\n",
       "      <td>5</td>\n",
       "      <td>25</td>\n",
       "      <td>21</td>\n",
       "      <td>20</td>\n",
       "    </tr>\n",
       "  </tbody>\n",
       "</table>\n",
       "</div>"
      ],
      "text/plain": [
       "           x          y  global_z     gene       transcript_id  nF50_factors  \\\n",
       "0  7136.4756  2356.3298       0.0     Igf2  ENSMUST00000000033            50   \n",
       "1  7138.1094  2360.3838       0.0      Cfp  ENSMUST00000001156            50   \n",
       "2  7136.9727  2356.9917       0.0   Slc3a2  ENSMUST00000010239            50   \n",
       "3  7135.1360  2357.4858       0.0   Slc3a2  ENSMUST00000010239            50   \n",
       "4  7137.8364  2359.2458       0.0  Slc47a1  ENSMUST00000010267            50   \n",
       "\n",
       "   nF28_factors  nF10_factors  nF30_factors  nF5_factors  nF25_factors  \\\n",
       "0            28            10            30            5            25   \n",
       "1            28            10            30            5            25   \n",
       "2            28            10            30            5            25   \n",
       "3            28            10            30            5            25   \n",
       "4            28            10            30            5            25   \n",
       "\n",
       "   nF21_factors  nF20_factors  \n",
       "0            21            20  \n",
       "1            21            20  \n",
       "2            21            20  \n",
       "3            21            20  \n",
       "4            21            20  "
      ]
     },
     "execution_count": 21,
     "metadata": {},
     "output_type": "execute_result"
    }
   ],
   "source": [
    "result.head()"
   ]
  },
  {
   "cell_type": "code",
   "execution_count": 22,
   "id": "09b30536",
   "metadata": {},
   "outputs": [
    {
     "data": {
      "text/plain": [
       "array([50,  3, 30, 42, 37, 29,  4, 44, 21, 45, 20, 35, 41, 28, 38, 43, 47,\n",
       "       48, 32, 18, 12, 33, 22, 39, 13, 25,  2, 10, 34, 27, 31, 49,  0, 17,\n",
       "        1,  9,  5, 15, 14, 26, 46, 24, 11, 36, 40, 23, 16,  6, 19,  7,  8])"
      ]
     },
     "execution_count": 22,
     "metadata": {},
     "output_type": "execute_result"
    }
   ],
   "source": [
    "result.compute()[all_factors[0] + \"_factors\"].unique()"
   ]
  },
  {
   "cell_type": "code",
   "execution_count": 23,
   "id": "52c14e99",
   "metadata": {},
   "outputs": [
    {
     "data": {
      "text/plain": [
       "np.int64(66676355)"
      ]
     },
     "execution_count": 23,
     "metadata": {},
     "output_type": "execute_result"
    }
   ],
   "source": [
    "result.index.size.compute()"
   ]
  },
  {
   "cell_type": "code",
   "execution_count": 24,
   "id": "b339527d",
   "metadata": {},
   "outputs": [
    {
     "data": {
      "text/plain": [
       "['/dss/dsshome1/0C/ra98gaq/Git/st-bsb--finish-then-update/data/cellseg-benchmark/FICTURE/foxf2_s2_r1/analysis/20250207_all_transcript_factors.csv.gz']"
      ]
     },
     "execution_count": 24,
     "metadata": {},
     "output_type": "execute_result"
    }
   ],
   "source": [
    "# export merged pixel-level factors\n",
    "result.to_csv(\n",
    "    os.path.join(\n",
    "        data_dir,\n",
    "        \"samples\",\n",
    "        sample_name,\n",
    "        \"results\",\n",
    "        \"Ficture\",\n",
    "        \"analysis\",\n",
    "        date.today().strftime(\"%Y%m%d\") + \"_all_transcript_factors.csv.gz\",\n",
    "    ),\n",
    "    compression=\"gzip\",\n",
    "    index=False,\n",
    "    single_file=True,\n",
    ")"
   ]
  },
  {
   "cell_type": "code",
   "execution_count": 25,
   "id": "e40cfa21",
   "metadata": {},
   "outputs": [
    {
     "data": {
      "text/plain": [
       "SpatialData object, with associated Zarr store: /dss/dssfs03/pn52re/pn52re-dss-0001/cellseg-benchmark/spatialdata-objects/foxf2_s2_r1/sdata.zarr\n",
       "├── Points\n",
       "│     ├── 'foxf2_s2_r1_nF5_pixel_factors': DataFrame with shape: (<Delayed>, 11) (2D points)\n",
       "│     ├── 'foxf2_s2_r1_nF10_pixel_factors': DataFrame with shape: (<Delayed>, 11) (2D points)\n",
       "│     ├── 'foxf2_s2_r1_nF20_pixel_factors': DataFrame with shape: (<Delayed>, 11) (2D points)\n",
       "│     ├── 'foxf2_s2_r1_nF21_pixel_factors': DataFrame with shape: (<Delayed>, 11) (2D points)\n",
       "│     ├── 'foxf2_s2_r1_nF25_pixel_factors': DataFrame with shape: (<Delayed>, 11) (2D points)\n",
       "│     ├── 'foxf2_s2_r1_nF28_pixel_factors': DataFrame with shape: (<Delayed>, 11) (2D points)\n",
       "│     ├── 'foxf2_s2_r1_nF30_pixel_factors': DataFrame with shape: (<Delayed>, 11) (2D points)\n",
       "│     ├── 'foxf2_s2_r1_nF50_pixel_factors': DataFrame with shape: (<Delayed>, 11) (2D points)\n",
       "│     └── 'foxf2_s2_r1_transcripts': DataFrame with shape: (<Delayed>, 9) (2D points)\n",
       "├── Shapes\n",
       "│     └── 'foxf2_s2_r1_polygons': GeoDataFrame shape: (107013, 9) (2D shapes)\n",
       "└── Tables\n",
       "      └── 'table': AnnData (107013, 500)\n",
       "with coordinate systems:\n",
       "    ▸ 'global', with elements:\n",
       "        foxf2_s2_r1_nF5_pixel_factors (Points), foxf2_s2_r1_nF10_pixel_factors (Points), foxf2_s2_r1_nF20_pixel_factors (Points), foxf2_s2_r1_nF21_pixel_factors (Points), foxf2_s2_r1_nF25_pixel_factors (Points), foxf2_s2_r1_nF28_pixel_factors (Points), foxf2_s2_r1_nF30_pixel_factors (Points), foxf2_s2_r1_nF50_pixel_factors (Points), foxf2_s2_r1_transcripts (Points), foxf2_s2_r1_polygons (Shapes)"
      ]
     },
     "execution_count": 25,
     "metadata": {},
     "output_type": "execute_result"
    }
   ],
   "source": [
    "sdata"
   ]
  },
  {
   "cell_type": "code",
   "execution_count": 26,
   "id": "29b19109",
   "metadata": {},
   "outputs": [],
   "source": [
    "# Add merged pixel-level factors to sdata\n",
    "sdata[f\"{sample_name}_all_transcript_factors\"] = result\n",
    "sdata.write_element(f\"{sample_name}_all_transcript_factors\", overwrite=True)"
   ]
  },
  {
   "cell_type": "code",
   "execution_count": 27,
   "id": "63819dd4",
   "metadata": {},
   "outputs": [
    {
     "data": {
      "text/plain": [
       "SpatialData object, with associated Zarr store: /dss/dssfs03/pn52re/pn52re-dss-0001/cellseg-benchmark/spatialdata-objects/foxf2_s2_r1/sdata.zarr\n",
       "├── Points\n",
       "│     ├── 'foxf2_s2_r1_all_transcript_factors': DataFrame with shape: (<Delayed>, 13) (2D points)\n",
       "│     ├── 'foxf2_s2_r1_nF5_pixel_factors': DataFrame with shape: (<Delayed>, 11) (2D points)\n",
       "│     ├── 'foxf2_s2_r1_nF10_pixel_factors': DataFrame with shape: (<Delayed>, 11) (2D points)\n",
       "│     ├── 'foxf2_s2_r1_nF20_pixel_factors': DataFrame with shape: (<Delayed>, 11) (2D points)\n",
       "│     ├── 'foxf2_s2_r1_nF21_pixel_factors': DataFrame with shape: (<Delayed>, 11) (2D points)\n",
       "│     ├── 'foxf2_s2_r1_nF25_pixel_factors': DataFrame with shape: (<Delayed>, 11) (2D points)\n",
       "│     ├── 'foxf2_s2_r1_nF28_pixel_factors': DataFrame with shape: (<Delayed>, 11) (2D points)\n",
       "│     ├── 'foxf2_s2_r1_nF30_pixel_factors': DataFrame with shape: (<Delayed>, 11) (2D points)\n",
       "│     ├── 'foxf2_s2_r1_nF50_pixel_factors': DataFrame with shape: (<Delayed>, 11) (2D points)\n",
       "│     └── 'foxf2_s2_r1_transcripts': DataFrame with shape: (<Delayed>, 9) (2D points)\n",
       "├── Shapes\n",
       "│     └── 'foxf2_s2_r1_polygons': GeoDataFrame shape: (107013, 9) (2D shapes)\n",
       "└── Tables\n",
       "      └── 'table': AnnData (107013, 500)\n",
       "with coordinate systems:\n",
       "    ▸ 'global', with elements:\n",
       "        foxf2_s2_r1_all_transcript_factors (Points), foxf2_s2_r1_nF5_pixel_factors (Points), foxf2_s2_r1_nF10_pixel_factors (Points), foxf2_s2_r1_nF20_pixel_factors (Points), foxf2_s2_r1_nF21_pixel_factors (Points), foxf2_s2_r1_nF25_pixel_factors (Points), foxf2_s2_r1_nF28_pixel_factors (Points), foxf2_s2_r1_nF30_pixel_factors (Points), foxf2_s2_r1_nF50_pixel_factors (Points), foxf2_s2_r1_transcripts (Points), foxf2_s2_r1_polygons (Shapes)"
      ]
     },
     "execution_count": 27,
     "metadata": {},
     "output_type": "execute_result"
    }
   ],
   "source": [
    "sdata"
   ]
  },
  {
   "cell_type": "code",
   "execution_count": null,
   "id": "920b17eb",
   "metadata": {},
   "outputs": [],
   "source": []
  },
  {
   "cell_type": "markdown",
   "id": "777c3c8e",
   "metadata": {},
   "source": [
    "## Update sdata"
   ]
  },
  {
   "cell_type": "code",
   "execution_count": null,
   "id": "105672fe",
   "metadata": {},
   "outputs": [],
   "source": [
    "# not needed"
   ]
  },
  {
   "cell_type": "code",
   "execution_count": null,
   "id": "3b9900a6",
   "metadata": {},
   "outputs": [],
   "source": []
  },
  {
   "cell_type": "code",
   "execution_count": null,
   "id": "96239e19",
   "metadata": {},
   "outputs": [],
   "source": [
    "def update_element(sdata, element_name):\n",
    "    \"\"\"\n",
    "    Workaround for updating a backed element in sdata.\n",
    "    Adapted from https://github.com/scverse/spatialdata/blob/main/tests/io/test_readwrite.py#L156\n",
    "    \"\"\"\n",
    "    new_name = f\"{element_name}_tmp\"\n",
    "    name = element_name\n",
    "    # a a. write a backup copy of the data\n",
    "    sdata[new_name] = sdata[name]\n",
    "    sdata.write_element(new_name)\n",
    "    # a2. remove the in-memory copy from the SpatialData object (note,\n",
    "    # at this point the backup copy still exists on-disk)\n",
    "    del sdata[new_name]\n",
    "    del sdata[name]\n",
    "    # a3 load the backup copy into memory\n",
    "    sdata_copy = spatialdata.read_zarr(sdata.path)\n",
    "    # b1. rewrite the original data\n",
    "    sdata.delete_element_from_disk(name)\n",
    "    sdata[name] = sdata_copy[new_name]\n",
    "    sdata.write_element(name)\n",
    "    # b2. reload the new data into memory (because it has been written but in-memory it still points\n",
    "    # from the backup location)\n",
    "    sdata = spatialdata.read_zarr(sdata.path)\n",
    "    # c. remove the backup copy\n",
    "    del sdata[new_name]\n",
    "    sdata.delete_element_from_disk(new_name)"
   ]
  },
  {
   "cell_type": "code",
   "execution_count": null,
   "id": "22dbfe52",
   "metadata": {},
   "outputs": [],
   "source": [
    "# update_element(sdata, f\"{sample_name}_all_transcript_factors\")"
   ]
  },
  {
   "cell_type": "code",
   "execution_count": null,
   "id": "1b6efff6",
   "metadata": {},
   "outputs": [],
   "source": []
  }
 ],
 "metadata": {
  "kernelspec": {
   "display_name": "sdata",
   "language": "python",
   "name": "sdata"
  },
  "language_info": {
   "codemirror_mode": {
    "name": "ipython",
    "version": 3
   },
   "file_extension": ".py",
   "mimetype": "text/x-python",
   "name": "python",
   "nbconvert_exporter": "python",
   "pygments_lexer": "ipython3",
   "version": "3.11.11"
  }
 },
 "nbformat": 4,
 "nbformat_minor": 5
}
