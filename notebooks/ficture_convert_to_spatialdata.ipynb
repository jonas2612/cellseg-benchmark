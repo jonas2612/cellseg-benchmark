{
 "cells": [
  {
   "cell_type": "markdown",
   "id": "bf3bd55f-cf04-4d79-ac80-016a8674c621",
   "metadata": {},
   "source": [
    "# Combine MERFISH FICTURE results in spatialdata object\n",
    "- for a given sample, create spatial data object\n",
    "- iterate over all available FICTURE outputs:\n",
    "    - add pixel-level factors to sdata object\n",
    "    - calculate transcript-level factors, merge them, and add to sdata object"
   ]
  },
  {
   "cell_type": "code",
   "execution_count": 1,
   "id": "310e2aa5-441f-4a1a-9016-6ed84af762b4",
   "metadata": {},
   "outputs": [
    {
     "name": "stderr",
     "output_type": "stream",
     "text": [
      "/dss/dsshome1/0C/ra98gaq/miniconda3/envs/sdata/lib/python3.11/site-packages/dask/dataframe/__init__.py:31: FutureWarning: The legacy Dask DataFrame implementation is deprecated and will be removed in a future version. Set the configuration option `dataframe.query-planning` to `True` or None to enable the new Dask Dataframe implementation and silence this warning.\n",
      "  warnings.warn(\n",
      "/dss/dsshome1/0C/ra98gaq/miniconda3/envs/sdata/lib/python3.11/site-packages/anndata/utils.py:429: FutureWarning: Importing read_text from `anndata` is deprecated. Import anndata.io.read_text instead.\n",
      "  warnings.warn(msg, FutureWarning)\n"
     ]
    }
   ],
   "source": [
    "import json\n",
    "import os\n",
    "from datetime import date\n",
    "\n",
    "import dask.dataframe as dd\n",
    "import numpy as np\n",
    "import spatialdata\n",
    "import spatialdata_io\n",
    "from scipy.spatial import KDTree\n",
    "from spatialdata.models import PointsModel"
   ]
  },
  {
   "cell_type": "code",
   "execution_count": 2,
   "id": "bfb60819-a36b-4503-862b-422b4e587993",
   "metadata": {},
   "outputs": [],
   "source": [
    "import warnings\n",
    "\n",
    "warnings.filterwarnings(\"ignore\", category=FutureWarning)"
   ]
  },
  {
   "cell_type": "code",
   "execution_count": 17,
   "id": "94f03afc-3a6a-4b6d-ad65-51118821581b",
   "metadata": {},
   "outputs": [],
   "source": [
    "import sys\n",
    "\n",
    "sys.path.append(\"/home\")\n",
    "import src.ficture_utils as ficture_utils"
   ]
  },
  {
   "cell_type": "code",
   "execution_count": 4,
   "id": "a45cc8d9-a40c-49d8-bdff-205f6aeed7d6",
   "metadata": {},
   "outputs": [
    {
     "name": "stdout",
     "output_type": "stream",
     "text": [
      "total 152\n",
      "-rw-r--r-- 1 ra98gaq pn52ra 148725 Aug 17  2024 NVIDIA_Deep_Learning_Container_License.pdf\n",
      "-rw-r--r-- 1 ra98gaq pn52ra   3394 Jun  4  2024 README.md\n",
      "drwxr-xr-x 2 ra98gaq pn52ra     71 Aug 17  2024 \u001b[0m\u001b[01;34mdocker-examples\u001b[0m/\n",
      "lrwxrwxrwx 1 ra98gaq pn52ra     31 Aug 17  2024 \u001b[01;36mnvidia-examples\u001b[0m -> \u001b[01;34m/opt/tensorflow/nvidia-examples\u001b[0m/\n"
     ]
    }
   ],
   "source": [
    "%ls -l"
   ]
  },
  {
   "cell_type": "code",
   "execution_count": 5,
   "id": "b71ac433-1576-44fb-9183-2e99a8e190d0",
   "metadata": {},
   "outputs": [
    {
     "name": "stdout",
     "output_type": "stream",
     "text": [
      "lrwxrwxrwx 1 ra98gaq pn52ra 53 Mar 12 17:01 /home/data -> /dss/dssfs03/pn52re/pn52re-dss-0001/cellseg-benchmark\n"
     ]
    }
   ],
   "source": [
    "data_dir = os.path.abspath(\"../home/data\")\n",
    "!ls -l $data_dir"
   ]
  },
  {
   "cell_type": "code",
   "execution_count": 6,
   "id": "2303db4c-cc46-4b7a-8eb4-566e435f536d",
   "metadata": {},
   "outputs": [
    {
     "name": "stdout",
     "output_type": "stream",
     "text": [
      "lrwxrwxrwx 1 ra98gaq pn52ra 35 Mar 12 17:02 /home/archive -> /dss/dssfs03/pn52re/pn52re-dss-0000\n"
     ]
    }
   ],
   "source": [
    "archive_dir = os.path.abspath(\"../home/archive\")\n",
    "!ls -l $archive_dir"
   ]
  },
  {
   "cell_type": "code",
   "execution_count": 7,
   "id": "15c4526e-5938-4e37-b036-980f1388759a",
   "metadata": {},
   "outputs": [
    {
     "data": {
      "text/plain": [
       "'foxf2_s2_r1'"
      ]
     },
     "execution_count": 7,
     "metadata": {},
     "output_type": "execute_result"
    }
   ],
   "source": [
    "cohort_name = \"foxf2\"\n",
    "slide_name = \"s2\"\n",
    "region_name = \"r1\"\n",
    "sample_name = f\"{cohort_name}_{slide_name}_{region_name}\"\n",
    "sdata_file = os.path.join(\n",
    "    data_dir, \"samples\", sample_name, \"results\", \"Ficture\", \"sdata.zarr\"\n",
    ")\n",
    "sample_name"
   ]
  },
  {
   "cell_type": "code",
   "execution_count": 8,
   "id": "001010f4-89a2-4b55-9809-a8abadc78c78",
   "metadata": {},
   "outputs": [
    {
     "data": {
      "text/plain": [
       "'/home/data/samples/foxf2_s2_r1/results/Ficture/sdata.zarr'"
      ]
     },
     "execution_count": 8,
     "metadata": {},
     "output_type": "execute_result"
    }
   ],
   "source": [
    "os.path.join(data_dir, \"samples\", sample_name, \"results\", \"Ficture\", \"sdata.zarr\")"
   ]
  },
  {
   "cell_type": "code",
   "execution_count": 9,
   "id": "15fdd67c-60ec-4da3-babc-27d338678c6e",
   "metadata": {},
   "outputs": [],
   "source": [
    "# get path to merscope output data\n",
    "with open(os.path.join(data_dir, \"sample_paths.json\")) as file:\n",
    "    sample_paths = json.load(file)"
   ]
  },
  {
   "cell_type": "markdown",
   "id": "b1817bcb-3498-4b6c-ae37-cd1567d364d6",
   "metadata": {},
   "source": [
    "## Create spatialdata object\n",
    "Will overwrite existing objects"
   ]
  },
  {
   "cell_type": "code",
   "execution_count": 13,
   "id": "7584f5ef-4ae0-43f5-8c2a-4f236a09811c",
   "metadata": {},
   "outputs": [
    {
     "name": "stdout",
     "output_type": "stream",
     "text": [
      "\u001b[34mINFO    \u001b[0m The column \u001b[32m\"global_x\"\u001b[0m has now been renamed to \u001b[32m\"x\"\u001b[0m; the column \u001b[32m\"x\"\u001b[0m was already present in the dataframe,   \n",
      "         and will be dropped.                                                                                      \n",
      "\u001b[34mINFO    \u001b[0m The column \u001b[32m\"global_y\"\u001b[0m has now been renamed to \u001b[32m\"y\"\u001b[0m; the column \u001b[32m\"y\"\u001b[0m was already present in the dataframe,   \n",
      "         and will be dropped.                                                                                      \n"
     ]
    },
    {
     "name": "stderr",
     "output_type": "stream",
     "text": [
      "/dss/dsshome1/0C/ra98gaq/miniconda3/envs/sdata/lib/python3.11/functools.py:946: UserWarning: The index of the dataframe is not monotonic increasing. It is recommended to sort the data to adjust the order of the index before calling .parse() (or call `parse(sort=True)`) to avoid possible problems due to unknown divisions.\n",
      "  return method.__get__(obj, cls)(*args, **kwargs)\n"
     ]
    },
    {
     "name": "stdout",
     "output_type": "stream",
     "text": [
      "\u001b[34mINFO    \u001b[0m The Zarr backing store has been changed from \u001b[3;35mNone\u001b[0m the new file path:                                      \n",
      "         \u001b[35m/dss/dsshome1/0C/ra98gaq/Git/st-bsb--finish-then-update/data/cellseg-benchmark/spatialdata-objects/foxf2_s\u001b[0m\n",
      "         \u001b[35m2_r1/\u001b[0m\u001b[95msdata.zarr\u001b[0m                                                                                           \n"
     ]
    }
   ],
   "source": [
    "# create and save sdata object\n",
    "sdata = spatialdata_io.merscope(\n",
    "    sample_paths[sample_name],\n",
    "    z_layers=None,\n",
    "    cells_boundaries=True,\n",
    "    mosaic_images=False,\n",
    "    slide_name=f\"{cohort_name}_{slide_name}\",\n",
    "    region_name=region_name,\n",
    ")\n",
    "os.makedirs(os.path.dirname(sdata_file), exist_ok=True)\n",
    "sdata.write(sdata_file, overwrite=True)"
   ]
  },
  {
   "cell_type": "code",
   "execution_count": 10,
   "id": "78c370d9-de1b-42f7-baa4-5a7ed9ab2dd1",
   "metadata": {},
   "outputs": [],
   "source": [
    "if \"sdata\" not in globals():\n",
    "    sdata = spatialdata.read_zarr(sdata_file)"
   ]
  },
  {
   "cell_type": "code",
   "execution_count": 11,
   "id": "da26191d-0847-4f0a-ada0-8cedb76ea2ec",
   "metadata": {},
   "outputs": [
    {
     "data": {
      "text/plain": [
       "SpatialData object, with associated Zarr store: /dss/dssfs03/pn52re/pn52re-dss-0001/cellseg-benchmark/samples/foxf2_s2_r1/results/Ficture/sdata.zarr\n",
       "├── Points\n",
       "│     ├── 'foxf2_s2_r1_all_transcript_factors': DataFrame with shape: (<Delayed>, 13) (2D points)\n",
       "│     ├── 'foxf2_s2_r1_nF5_pixel_factors': DataFrame with shape: (<Delayed>, 11) (2D points)\n",
       "│     ├── 'foxf2_s2_r1_nF10_pixel_factors': DataFrame with shape: (<Delayed>, 11) (2D points)\n",
       "│     ├── 'foxf2_s2_r1_nF20_pixel_factors': DataFrame with shape: (<Delayed>, 11) (2D points)\n",
       "│     ├── 'foxf2_s2_r1_nF21_pixel_factors': DataFrame with shape: (<Delayed>, 11) (2D points)\n",
       "│     ├── 'foxf2_s2_r1_nF25_pixel_factors': DataFrame with shape: (<Delayed>, 11) (2D points)\n",
       "│     ├── 'foxf2_s2_r1_nF28_pixel_factors': DataFrame with shape: (<Delayed>, 11) (2D points)\n",
       "│     ├── 'foxf2_s2_r1_nF30_pixel_factors': DataFrame with shape: (<Delayed>, 11) (2D points)\n",
       "│     ├── 'foxf2_s2_r1_nF50_pixel_factors': DataFrame with shape: (<Delayed>, 11) (2D points)\n",
       "│     └── 'foxf2_s2_r1_transcripts': DataFrame with shape: (<Delayed>, 9) (2D points)\n",
       "├── Shapes\n",
       "│     └── 'foxf2_s2_r1_polygons': GeoDataFrame shape: (107013, 9) (2D shapes)\n",
       "└── Tables\n",
       "      └── 'table': AnnData (107013, 500)\n",
       "with coordinate systems:\n",
       "    ▸ 'global', with elements:\n",
       "        foxf2_s2_r1_all_transcript_factors (Points), foxf2_s2_r1_nF5_pixel_factors (Points), foxf2_s2_r1_nF10_pixel_factors (Points), foxf2_s2_r1_nF20_pixel_factors (Points), foxf2_s2_r1_nF21_pixel_factors (Points), foxf2_s2_r1_nF25_pixel_factors (Points), foxf2_s2_r1_nF28_pixel_factors (Points), foxf2_s2_r1_nF30_pixel_factors (Points), foxf2_s2_r1_nF50_pixel_factors (Points), foxf2_s2_r1_transcripts (Points), foxf2_s2_r1_polygons (Shapes)"
      ]
     },
     "execution_count": 11,
     "metadata": {},
     "output_type": "execute_result"
    }
   ],
   "source": [
    "sdata"
   ]
  },
  {
   "cell_type": "code",
   "execution_count": 12,
   "id": "834d1d7b-43a4-4a8f-907b-7d28cfb470c6",
   "metadata": {},
   "outputs": [
    {
     "data": {
      "text/html": [
       "<div>\n",
       "<style scoped>\n",
       "    .dataframe tbody tr th:only-of-type {\n",
       "        vertical-align: middle;\n",
       "    }\n",
       "\n",
       "    .dataframe tbody tr th {\n",
       "        vertical-align: top;\n",
       "    }\n",
       "\n",
       "    .dataframe thead th {\n",
       "        text-align: right;\n",
       "    }\n",
       "</style>\n",
       "<table border=\"1\" class=\"dataframe\">\n",
       "  <thead>\n",
       "    <tr style=\"text-align: right;\">\n",
       "      <th></th>\n",
       "      <th>x</th>\n",
       "      <th>y</th>\n",
       "      <th>gene</th>\n",
       "      <th>global_z</th>\n",
       "      <th>transcript_id</th>\n",
       "      <th>fov</th>\n",
       "      <th>barcode_id</th>\n",
       "      <th>cell_id</th>\n",
       "      <th>Unnamed: 0</th>\n",
       "    </tr>\n",
       "  </thead>\n",
       "  <tbody>\n",
       "    <tr>\n",
       "      <th>0</th>\n",
       "      <td>7136.4756</td>\n",
       "      <td>2356.3298</td>\n",
       "      <td>Igf2</td>\n",
       "      <td>0.0</td>\n",
       "      <td>ENSMUST00000000033</td>\n",
       "      <td>461</td>\n",
       "      <td>0</td>\n",
       "      <td>1865558700069100825</td>\n",
       "      <td>107</td>\n",
       "    </tr>\n",
       "    <tr>\n",
       "      <th>1</th>\n",
       "      <td>7138.1094</td>\n",
       "      <td>2360.3838</td>\n",
       "      <td>Cfp</td>\n",
       "      <td>0.0</td>\n",
       "      <td>ENSMUST00000001156</td>\n",
       "      <td>461</td>\n",
       "      <td>8</td>\n",
       "      <td>1865558700069100825</td>\n",
       "      <td>22</td>\n",
       "    </tr>\n",
       "    <tr>\n",
       "      <th>2</th>\n",
       "      <td>7136.9727</td>\n",
       "      <td>2356.9917</td>\n",
       "      <td>Slc3a2</td>\n",
       "      <td>0.0</td>\n",
       "      <td>ENSMUST00000010239</td>\n",
       "      <td>461</td>\n",
       "      <td>44</td>\n",
       "      <td>1865558700069100825</td>\n",
       "      <td>84</td>\n",
       "    </tr>\n",
       "  </tbody>\n",
       "</table>\n",
       "</div>"
      ],
      "text/plain": [
       "           x          y    gene  global_z       transcript_id  fov  \\\n",
       "0  7136.4756  2356.3298    Igf2       0.0  ENSMUST00000000033  461   \n",
       "1  7138.1094  2360.3838     Cfp       0.0  ENSMUST00000001156  461   \n",
       "2  7136.9727  2356.9917  Slc3a2       0.0  ENSMUST00000010239  461   \n",
       "\n",
       "   barcode_id              cell_id  Unnamed: 0  \n",
       "0           0  1865558700069100825         107  \n",
       "1           8  1865558700069100825          22  \n",
       "2          44  1865558700069100825          84  "
      ]
     },
     "execution_count": 12,
     "metadata": {},
     "output_type": "execute_result"
    }
   ],
   "source": [
    "sdata[f\"{sample_name}_transcripts\"].head(3)"
   ]
  },
  {
   "cell_type": "code",
   "execution_count": 13,
   "id": "c4a4b1f4-29b8-4d81-8c25-6a51406a02a1",
   "metadata": {},
   "outputs": [
    {
     "data": {
      "text/plain": [
       "np.int64(1302)"
      ]
     },
     "execution_count": 13,
     "metadata": {},
     "output_type": "execute_result"
    }
   ],
   "source": [
    "sdata[f\"{sample_name}_transcripts\"][\"fov\"].compute().max()"
   ]
  },
  {
   "cell_type": "markdown",
   "id": "97daa040-7510-46cb-8ce2-a95e3f5ed563",
   "metadata": {},
   "source": [
    "## Get pixel-level and transcript-level factors\n",
    "- iterates over all available factors for given sample\n",
    "- adds pixel-level factors as separate \"point\" objects to sdata\n",
    "- extract transcript-level factors and export as merged table, plus add as \"point\" object to sdata"
   ]
  },
  {
   "cell_type": "code",
   "execution_count": 14,
   "id": "a6cd16e8-96f9-4e2a-8356-bbe0971ed793",
   "metadata": {},
   "outputs": [
    {
     "data": {
      "text/plain": [
       "['nF50.d_6',\n",
       " 'nF28.d_6-bulkRNAseq-inclzonation',\n",
       " 'nF10.d_6',\n",
       " 'nF30.d_6',\n",
       " 'nF5.d_6',\n",
       " 'nF25.d_6',\n",
       " 'nF21.d_6-bulkRNAseq-exclMBP',\n",
       " 'nF20.d_6']"
      ]
     },
     "execution_count": 14,
     "metadata": {},
     "output_type": "execute_result"
    }
   ],
   "source": [
    "all_factors_dir = os.listdir(\n",
    "    os.path.join(data_dir, \"samples\", sample_name, \"results\", \"Ficture\", \"output\")\n",
    ")\n",
    "all_factors_dir"
   ]
  },
  {
   "cell_type": "code",
   "execution_count": 15,
   "id": "b3d79338-b7d1-416d-80df-e8f655056de0",
   "metadata": {},
   "outputs": [
    {
     "data": {
      "text/plain": [
       "['nF50', 'nF28', 'nF10', 'nF30', 'nF5', 'nF25', 'nF21', 'nF20']"
      ]
     },
     "execution_count": 15,
     "metadata": {},
     "output_type": "execute_result"
    }
   ],
   "source": [
    "all_factors = [f.split(\".\")[0] for f in all_factors_dir]\n",
    "all_factors"
   ]
  },
  {
   "cell_type": "code",
   "execution_count": 20,
   "id": "892c066e-8100-4164-9cfb-86c62170ab6c",
   "metadata": {},
   "outputs": [
    {
     "name": "stderr",
     "output_type": "stream",
     "text": [
      "Loading data: 9304it [00:57, 162.32it/s]                          \n",
      "Loading data: 6378it [00:36, 175.11it/s]                          \n",
      "Loading data: 9243it [00:51, 179.73it/s]                          \n",
      "Loading data: 9261it [00:54, 170.10it/s]                          \n",
      "Loading data: 9230it [00:50, 184.53it/s]                          \n",
      "Loading data: 9224it [00:53, 171.14it/s]                          \n",
      "Loading data: 6349it [00:36, 175.04it/s]                          \n",
      "Loading data: 9229it [00:53, 172.20it/s]                          \n"
     ]
    }
   ],
   "source": [
    "base_cols = [\"x\", \"y\", \"global_z\", \"gene\", \"transcript_id\"]\n",
    "\n",
    "# Initialize with first factor\n",
    "factor_folder_0 = next(\n",
    "    f for f in all_factors_dir if f.startswith(all_factors[0] + \".\")\n",
    ")  # match name in case contains text label\n",
    "pixel_level_factors_file = os.path.join(\n",
    "    data_dir,\n",
    "    \"samples\",\n",
    "    sample_name,\n",
    "    \"results\",\n",
    "    \"Ficture\",\n",
    "    \"output\",\n",
    "    f\"{factor_folder_0}\",\n",
    "    f\"{all_factors[0]}.d_6.prj_6.r_4_5.pixel.sorted.tsv.gz\",\n",
    ")\n",
    "metadata = ficture_utils.parse_metadata(pixel_level_factors_file)\n",
    "df = ficture_utils.load_pixel_tsv(pixel_level_factors_file)\n",
    "df = ficture_utils.process_coordinates(df, metadata)\n",
    "\n",
    "# Update pixel-level factors to sdata\n",
    "dask_df = dd.from_pandas(df, npartitions=96)\n",
    "dask_df = PointsModel.parse(dask_df)\n",
    "sdata[f\"{sample_name}_{all_factors[0]}_pixel_factors\"] = dask_df\n",
    "sdata.write_element(f\"{sample_name}_{all_factors[0]}_pixel_factors\", overwrite=True)\n",
    "\n",
    "coords = np.array([df[\"x\"], df[\"y\"]]).T\n",
    "tree = KDTree(\n",
    "    coords, leafsize=10, compact_nodes=True, copy_data=False, balanced_tree=True\n",
    ")\n",
    "\n",
    "# Start with first factor's data\n",
    "transcripts = sdata[f\"{sample_name}_transcripts\"]\n",
    "all_transcript_factors = transcripts.map_partitions(\n",
    "    ficture_utils.get_transcript_level_factors,\n",
    "    tree=tree,\n",
    "    df=df,\n",
    "    metadata=metadata,\n",
    "    current_factor=all_factors[0],\n",
    ")\n",
    "\n",
    "# Subset genes for test run\n",
    "# test_geneset = [\"Igf2\", \"Cfp\"]\n",
    "# all_transcript_factors = all_transcript_factors[all_transcript_factors[\"gene\"].isin(test_geneset)]\n",
    "\n",
    "# Process remaining factors\n",
    "for factor in all_factors[1:]:\n",
    "    # Parse and process pixel-level factors\n",
    "    factor_folder = next(f for f in all_factors_dir if f.startswith(factor + \".\"))\n",
    "    pixel_level_factors_file = os.path.join(\n",
    "        data_dir,\n",
    "        \"samples\",\n",
    "        sample_name,\n",
    "        \"results\",\n",
    "        \"Ficture\",\n",
    "        \"output\",\n",
    "        f\"{factor_folder}\",\n",
    "        f\"{factor}.d_6.prj_6.r_4_5.pixel.sorted.tsv.gz\",\n",
    "    )\n",
    "    metadata = ficture_utils.parse_metadata(pixel_level_factors_file)\n",
    "    df = ficture_utils.load_pixel_tsv(pixel_level_factors_file)\n",
    "    df = ficture_utils.process_coordinates(df, metadata)\n",
    "\n",
    "    # Update pixel-level factors to sdata\n",
    "    dask_df = dd.from_pandas(df, npartitions=96)\n",
    "    dask_df = PointsModel.parse(dask_df)\n",
    "    sdata[f\"{sample_name}_{factor}_pixel_factors\"] = dask_df\n",
    "    sdata.write_element(f\"{sample_name}_{factor}_pixel_factors\", overwrite=True)\n",
    "\n",
    "    # Create KDTree for this iteration's pixels\n",
    "    coords = np.array([df[\"x\"], df[\"y\"]]).T\n",
    "    tree = KDTree(\n",
    "        coords, leafsize=10, compact_nodes=True, copy_data=False, balanced_tree=True\n",
    "    )\n",
    "\n",
    "    # Get transcript-level factors\n",
    "    all_transcript_factors = all_transcript_factors.map_partitions(\n",
    "        ficture_utils.get_transcript_level_factors,\n",
    "        tree=tree,\n",
    "        df=df,\n",
    "        metadata=metadata,\n",
    "        current_factor=factor,\n",
    "    )\n",
    "\n",
    "# Final cleanup\n",
    "result = all_transcript_factors[\n",
    "    base_cols + [f\"{factor}_factors\" for factor in all_factors]\n",
    "].reset_index(drop=True)\n",
    "\n",
    "# Validate that each factor has >= 2 unique values (in a subset for speed)\n",
    "sample = result.head(1000)\n",
    "validation = {\n",
    "    col: len(sample[col].unique()) > 1 for col in sample.columns if \"_factors\" in col\n",
    "}\n",
    "assert all(validation.values()), f\"Invalid factors: {validation}\""
   ]
  },
  {
   "cell_type": "code",
   "execution_count": 21,
   "id": "8e1addf9-69f0-4b80-85f0-fe9878998d80",
   "metadata": {},
   "outputs": [
    {
     "data": {
      "text/html": [
       "<div>\n",
       "<style scoped>\n",
       "    .dataframe tbody tr th:only-of-type {\n",
       "        vertical-align: middle;\n",
       "    }\n",
       "\n",
       "    .dataframe tbody tr th {\n",
       "        vertical-align: top;\n",
       "    }\n",
       "\n",
       "    .dataframe thead th {\n",
       "        text-align: right;\n",
       "    }\n",
       "</style>\n",
       "<table border=\"1\" class=\"dataframe\">\n",
       "  <thead>\n",
       "    <tr style=\"text-align: right;\">\n",
       "      <th></th>\n",
       "      <th>x</th>\n",
       "      <th>y</th>\n",
       "      <th>global_z</th>\n",
       "      <th>gene</th>\n",
       "      <th>transcript_id</th>\n",
       "      <th>nF50_factors</th>\n",
       "      <th>nF28_factors</th>\n",
       "      <th>nF10_factors</th>\n",
       "      <th>nF30_factors</th>\n",
       "      <th>nF5_factors</th>\n",
       "      <th>nF25_factors</th>\n",
       "      <th>nF21_factors</th>\n",
       "      <th>nF20_factors</th>\n",
       "    </tr>\n",
       "  </thead>\n",
       "  <tbody>\n",
       "    <tr>\n",
       "      <th>0</th>\n",
       "      <td>7136.4756</td>\n",
       "      <td>2356.3298</td>\n",
       "      <td>0.0</td>\n",
       "      <td>Igf2</td>\n",
       "      <td>ENSMUST00000000033</td>\n",
       "      <td>50</td>\n",
       "      <td>28</td>\n",
       "      <td>10</td>\n",
       "      <td>30</td>\n",
       "      <td>5</td>\n",
       "      <td>25</td>\n",
       "      <td>21</td>\n",
       "      <td>20</td>\n",
       "    </tr>\n",
       "    <tr>\n",
       "      <th>1</th>\n",
       "      <td>7138.1094</td>\n",
       "      <td>2360.3838</td>\n",
       "      <td>0.0</td>\n",
       "      <td>Cfp</td>\n",
       "      <td>ENSMUST00000001156</td>\n",
       "      <td>50</td>\n",
       "      <td>28</td>\n",
       "      <td>10</td>\n",
       "      <td>30</td>\n",
       "      <td>5</td>\n",
       "      <td>25</td>\n",
       "      <td>21</td>\n",
       "      <td>20</td>\n",
       "    </tr>\n",
       "    <tr>\n",
       "      <th>2</th>\n",
       "      <td>7136.9727</td>\n",
       "      <td>2356.9917</td>\n",
       "      <td>0.0</td>\n",
       "      <td>Slc3a2</td>\n",
       "      <td>ENSMUST00000010239</td>\n",
       "      <td>50</td>\n",
       "      <td>28</td>\n",
       "      <td>10</td>\n",
       "      <td>30</td>\n",
       "      <td>5</td>\n",
       "      <td>25</td>\n",
       "      <td>21</td>\n",
       "      <td>20</td>\n",
       "    </tr>\n",
       "    <tr>\n",
       "      <th>3</th>\n",
       "      <td>7135.1360</td>\n",
       "      <td>2357.4858</td>\n",
       "      <td>0.0</td>\n",
       "      <td>Slc3a2</td>\n",
       "      <td>ENSMUST00000010239</td>\n",
       "      <td>50</td>\n",
       "      <td>28</td>\n",
       "      <td>10</td>\n",
       "      <td>30</td>\n",
       "      <td>5</td>\n",
       "      <td>25</td>\n",
       "      <td>21</td>\n",
       "      <td>20</td>\n",
       "    </tr>\n",
       "    <tr>\n",
       "      <th>4</th>\n",
       "      <td>7137.8364</td>\n",
       "      <td>2359.2458</td>\n",
       "      <td>0.0</td>\n",
       "      <td>Slc47a1</td>\n",
       "      <td>ENSMUST00000010267</td>\n",
       "      <td>50</td>\n",
       "      <td>28</td>\n",
       "      <td>10</td>\n",
       "      <td>30</td>\n",
       "      <td>5</td>\n",
       "      <td>25</td>\n",
       "      <td>21</td>\n",
       "      <td>20</td>\n",
       "    </tr>\n",
       "  </tbody>\n",
       "</table>\n",
       "</div>"
      ],
      "text/plain": [
       "           x          y  global_z     gene       transcript_id  nF50_factors  \\\n",
       "0  7136.4756  2356.3298       0.0     Igf2  ENSMUST00000000033            50   \n",
       "1  7138.1094  2360.3838       0.0      Cfp  ENSMUST00000001156            50   \n",
       "2  7136.9727  2356.9917       0.0   Slc3a2  ENSMUST00000010239            50   \n",
       "3  7135.1360  2357.4858       0.0   Slc3a2  ENSMUST00000010239            50   \n",
       "4  7137.8364  2359.2458       0.0  Slc47a1  ENSMUST00000010267            50   \n",
       "\n",
       "   nF28_factors  nF10_factors  nF30_factors  nF5_factors  nF25_factors  \\\n",
       "0            28            10            30            5            25   \n",
       "1            28            10            30            5            25   \n",
       "2            28            10            30            5            25   \n",
       "3            28            10            30            5            25   \n",
       "4            28            10            30            5            25   \n",
       "\n",
       "   nF21_factors  nF20_factors  \n",
       "0            21            20  \n",
       "1            21            20  \n",
       "2            21            20  \n",
       "3            21            20  \n",
       "4            21            20  "
      ]
     },
     "execution_count": 21,
     "metadata": {},
     "output_type": "execute_result"
    }
   ],
   "source": [
    "result.head()"
   ]
  },
  {
   "cell_type": "code",
   "execution_count": 22,
   "id": "048d96d0-33bb-4fb5-a2ac-bb4a965d9280",
   "metadata": {},
   "outputs": [
    {
     "data": {
      "text/plain": [
       "array([50,  3, 30, 42, 37, 29,  4, 44, 21, 45, 20, 35, 41, 28, 38, 43, 47,\n",
       "       48, 32, 18, 12, 33, 22, 39, 13, 25,  2, 10, 34, 27, 31, 49,  0, 17,\n",
       "        1,  9,  5, 15, 14, 26, 46, 24, 11, 36, 40, 23, 16,  6, 19,  7,  8])"
      ]
     },
     "execution_count": 22,
     "metadata": {},
     "output_type": "execute_result"
    }
   ],
   "source": [
    "result.compute()[all_factors[0] + \"_factors\"].unique()"
   ]
  },
  {
   "cell_type": "code",
   "execution_count": 23,
   "id": "6d4de2f5-1e17-491e-aeba-b56ceb646868",
   "metadata": {},
   "outputs": [
    {
     "data": {
      "text/plain": [
       "np.int64(66676355)"
      ]
     },
     "execution_count": 23,
     "metadata": {},
     "output_type": "execute_result"
    }
   ],
   "source": [
    "result.index.size.compute()"
   ]
  },
  {
   "cell_type": "code",
   "execution_count": 24,
   "id": "65d6d565-bd75-4ba6-b6fd-aca05c87671e",
   "metadata": {},
   "outputs": [
    {
     "data": {
      "text/plain": [
       "['/dss/dsshome1/0C/ra98gaq/Git/st-bsb--finish-then-update/data/cellseg-benchmark/FICTURE/foxf2_s2_r1/analysis/20250207_all_transcript_factors.csv.gz']"
      ]
     },
     "execution_count": 24,
     "metadata": {},
     "output_type": "execute_result"
    }
   ],
   "source": [
    "# export merged pixel-level factors\n",
    "result.to_csv(\n",
    "    os.path.join(\n",
    "        data_dir,\n",
    "        \"samples\",\n",
    "        sample_name,\n",
    "        \"results\",\n",
    "        \"Ficture\",\n",
    "        \"analysis\",\n",
    "        date.today().strftime(\"%Y%m%d\") + \"_all_transcript_factors.csv.gz\",\n",
    "    ),\n",
    "    compression=\"gzip\",\n",
    "    index=False,\n",
    "    single_file=True,\n",
    ")"
   ]
  },
  {
   "cell_type": "code",
   "execution_count": 25,
   "id": "a1492659-4201-4308-9969-58213738232f",
   "metadata": {},
   "outputs": [
    {
     "data": {
      "text/plain": [
       "SpatialData object, with associated Zarr store: /dss/dssfs03/pn52re/pn52re-dss-0001/cellseg-benchmark/spatialdata-objects/foxf2_s2_r1/sdata.zarr\n",
       "├── Points\n",
       "│     ├── 'foxf2_s2_r1_nF5_pixel_factors': DataFrame with shape: (<Delayed>, 11) (2D points)\n",
       "│     ├── 'foxf2_s2_r1_nF10_pixel_factors': DataFrame with shape: (<Delayed>, 11) (2D points)\n",
       "│     ├── 'foxf2_s2_r1_nF20_pixel_factors': DataFrame with shape: (<Delayed>, 11) (2D points)\n",
       "│     ├── 'foxf2_s2_r1_nF21_pixel_factors': DataFrame with shape: (<Delayed>, 11) (2D points)\n",
       "│     ├── 'foxf2_s2_r1_nF25_pixel_factors': DataFrame with shape: (<Delayed>, 11) (2D points)\n",
       "│     ├── 'foxf2_s2_r1_nF28_pixel_factors': DataFrame with shape: (<Delayed>, 11) (2D points)\n",
       "│     ├── 'foxf2_s2_r1_nF30_pixel_factors': DataFrame with shape: (<Delayed>, 11) (2D points)\n",
       "│     ├── 'foxf2_s2_r1_nF50_pixel_factors': DataFrame with shape: (<Delayed>, 11) (2D points)\n",
       "│     └── 'foxf2_s2_r1_transcripts': DataFrame with shape: (<Delayed>, 9) (2D points)\n",
       "├── Shapes\n",
       "│     └── 'foxf2_s2_r1_polygons': GeoDataFrame shape: (107013, 9) (2D shapes)\n",
       "└── Tables\n",
       "      └── 'table': AnnData (107013, 500)\n",
       "with coordinate systems:\n",
       "    ▸ 'global', with elements:\n",
       "        foxf2_s2_r1_nF5_pixel_factors (Points), foxf2_s2_r1_nF10_pixel_factors (Points), foxf2_s2_r1_nF20_pixel_factors (Points), foxf2_s2_r1_nF21_pixel_factors (Points), foxf2_s2_r1_nF25_pixel_factors (Points), foxf2_s2_r1_nF28_pixel_factors (Points), foxf2_s2_r1_nF30_pixel_factors (Points), foxf2_s2_r1_nF50_pixel_factors (Points), foxf2_s2_r1_transcripts (Points), foxf2_s2_r1_polygons (Shapes)"
      ]
     },
     "execution_count": 25,
     "metadata": {},
     "output_type": "execute_result"
    }
   ],
   "source": [
    "sdata"
   ]
  },
  {
   "cell_type": "code",
   "execution_count": 26,
   "id": "f404090c-1e2f-46c7-b9c0-47b61e8111d4",
   "metadata": {},
   "outputs": [],
   "source": [
    "# Add merged pixel-level factors to sdata\n",
    "sdata[f\"{sample_name}_all_transcript_factors\"] = result\n",
    "sdata.write_element(f\"{sample_name}_all_transcript_factors\", overwrite=True)"
   ]
  },
  {
   "cell_type": "code",
   "execution_count": 27,
   "id": "96b95bae-1508-4b46-918f-f2e19418d229",
   "metadata": {},
   "outputs": [
    {
     "data": {
      "text/plain": [
       "SpatialData object, with associated Zarr store: /dss/dssfs03/pn52re/pn52re-dss-0001/cellseg-benchmark/spatialdata-objects/foxf2_s2_r1/sdata.zarr\n",
       "├── Points\n",
       "│     ├── 'foxf2_s2_r1_all_transcript_factors': DataFrame with shape: (<Delayed>, 13) (2D points)\n",
       "│     ├── 'foxf2_s2_r1_nF5_pixel_factors': DataFrame with shape: (<Delayed>, 11) (2D points)\n",
       "│     ├── 'foxf2_s2_r1_nF10_pixel_factors': DataFrame with shape: (<Delayed>, 11) (2D points)\n",
       "│     ├── 'foxf2_s2_r1_nF20_pixel_factors': DataFrame with shape: (<Delayed>, 11) (2D points)\n",
       "│     ├── 'foxf2_s2_r1_nF21_pixel_factors': DataFrame with shape: (<Delayed>, 11) (2D points)\n",
       "│     ├── 'foxf2_s2_r1_nF25_pixel_factors': DataFrame with shape: (<Delayed>, 11) (2D points)\n",
       "│     ├── 'foxf2_s2_r1_nF28_pixel_factors': DataFrame with shape: (<Delayed>, 11) (2D points)\n",
       "│     ├── 'foxf2_s2_r1_nF30_pixel_factors': DataFrame with shape: (<Delayed>, 11) (2D points)\n",
       "│     ├── 'foxf2_s2_r1_nF50_pixel_factors': DataFrame with shape: (<Delayed>, 11) (2D points)\n",
       "│     └── 'foxf2_s2_r1_transcripts': DataFrame with shape: (<Delayed>, 9) (2D points)\n",
       "├── Shapes\n",
       "│     └── 'foxf2_s2_r1_polygons': GeoDataFrame shape: (107013, 9) (2D shapes)\n",
       "└── Tables\n",
       "      └── 'table': AnnData (107013, 500)\n",
       "with coordinate systems:\n",
       "    ▸ 'global', with elements:\n",
       "        foxf2_s2_r1_all_transcript_factors (Points), foxf2_s2_r1_nF5_pixel_factors (Points), foxf2_s2_r1_nF10_pixel_factors (Points), foxf2_s2_r1_nF20_pixel_factors (Points), foxf2_s2_r1_nF21_pixel_factors (Points), foxf2_s2_r1_nF25_pixel_factors (Points), foxf2_s2_r1_nF28_pixel_factors (Points), foxf2_s2_r1_nF30_pixel_factors (Points), foxf2_s2_r1_nF50_pixel_factors (Points), foxf2_s2_r1_transcripts (Points), foxf2_s2_r1_polygons (Shapes)"
      ]
     },
     "execution_count": 27,
     "metadata": {},
     "output_type": "execute_result"
    }
   ],
   "source": [
    "sdata"
   ]
  },
  {
   "cell_type": "code",
   "execution_count": null,
   "id": "4431b46c-4096-492c-96ec-331276a0e88b",
   "metadata": {},
   "outputs": [],
   "source": []
  },
  {
   "cell_type": "markdown",
   "id": "ad77fa13-fd80-418e-aab2-e3e7a5721838",
   "metadata": {},
   "source": [
    "## Update sdata"
   ]
  },
  {
   "cell_type": "code",
   "execution_count": null,
   "id": "87a58989-c4b0-4ef0-af63-6b8bc57d535b",
   "metadata": {},
   "outputs": [],
   "source": [
    "# not needed"
   ]
  },
  {
   "cell_type": "code",
   "execution_count": null,
   "id": "2e805607-0034-49c8-a35d-7ec223b43dc2",
   "metadata": {},
   "outputs": [],
   "source": []
  },
  {
   "cell_type": "code",
   "execution_count": null,
   "id": "ab7c72e8-9b37-44c0-92a9-756f22f80f4e",
   "metadata": {},
   "outputs": [],
   "source": [
    "def update_element(sdata, element_name):\n",
    "    \"\"\"\n",
    "    Workaround for updating a backed element in sdata.\n",
    "    Adapted from https://github.com/scverse/spatialdata/blob/main/tests/io/test_readwrite.py#L156\n",
    "    \"\"\"\n",
    "    new_name = f\"{element_name}_tmp\"\n",
    "    name = element_name\n",
    "    # a a. write a backup copy of the data\n",
    "    sdata[new_name] = sdata[name]\n",
    "    sdata.write_element(new_name)\n",
    "    # a2. remove the in-memory copy from the SpatialData object (note,\n",
    "    # at this point the backup copy still exists on-disk)\n",
    "    del sdata[new_name]\n",
    "    del sdata[name]\n",
    "    # a3 load the backup copy into memory\n",
    "    sdata_copy = spatialdata.read_zarr(sdata.path)\n",
    "    # b1. rewrite the original data\n",
    "    sdata.delete_element_from_disk(name)\n",
    "    sdata[name] = sdata_copy[new_name]\n",
    "    sdata.write_element(name)\n",
    "    # b2. reload the new data into memory (because it has been written but in-memory it still points\n",
    "    # from the backup location)\n",
    "    sdata = spatialdata.read_zarr(sdata.path)\n",
    "    # c. remove the backup copy\n",
    "    del sdata[new_name]\n",
    "    sdata.delete_element_from_disk(new_name)"
   ]
  },
  {
   "cell_type": "code",
   "execution_count": null,
   "id": "0ceebaff-2a0b-4dc5-8723-6310b36b607a",
   "metadata": {},
   "outputs": [],
   "source": [
    "# update_element(sdata, f\"{sample_name}_all_transcript_factors\")"
   ]
  },
  {
   "cell_type": "code",
   "execution_count": null,
   "id": "24f640be-8343-4633-96d8-b7cd8ffb7be7",
   "metadata": {},
   "outputs": [],
   "source": []
  }
 ],
 "metadata": {
  "kernelspec": {
   "display_name": "sdata",
   "language": "python",
   "name": "sdata"
  },
  "language_info": {
   "codemirror_mode": {
    "name": "ipython",
    "version": 3
   },
   "file_extension": ".py",
   "mimetype": "text/x-python",
   "name": "python",
   "nbconvert_exporter": "python",
   "pygments_lexer": "ipython3",
   "version": "3.11.11"
  }
 },
 "nbformat": 4,
 "nbformat_minor": 5
}
