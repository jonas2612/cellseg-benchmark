{
 "cells": [
  {
   "cell_type": "markdown",
   "id": "0b5329d5-a90f-4d2a-b01c-6be674453e55",
   "metadata": {},
   "source": [
    "1. Load MERFISH output and export as spatialdata object.  \n",
    "Two approaches: sdata containing transcript table plus\n",
    "    1. images from z=3 plane\n",
    "    2. images from all z planes"
   ]
  },
  {
   "cell_type": "markdown",
   "id": "07cdde16-a6ac-4520-927f-7e883f936113",
   "metadata": {},
   "source": [
    "2. Take boundaries and adata files from each segmentation approach and add to main sdata"
   ]
  },
  {
   "cell_type": "code",
   "execution_count": 1,
   "id": "80c3bf1f-ffd7-495c-b523-045bb9810493",
   "metadata": {},
   "outputs": [
    {
     "name": "stderr",
     "output_type": "stream",
     "text": [
      "/dss/dsshome1/0C/ra98gaq/miniconda3/envs/sdata/lib/python3.11/site-packages/dask/dataframe/__init__.py:31: FutureWarning: The legacy Dask DataFrame implementation is deprecated and will be removed in a future version. Set the configuration option `dataframe.query-planning` to `True` or None to enable the new Dask Dataframe implementation and silence this warning.\n",
      "  warnings.warn(\n",
      "/dss/dsshome1/0C/ra98gaq/miniconda3/envs/sdata/lib/python3.11/site-packages/anndata/utils.py:429: FutureWarning: Importing read_text from `anndata` is deprecated. Import anndata.io.read_text instead.\n",
      "  warnings.warn(msg, FutureWarning)\n"
     ]
    }
   ],
   "source": [
    "import os\n",
    "import json\n",
    "import pandas as pd\n",
    "import spatialdata as sd\n",
    "import spatialdata_io"
   ]
  },
  {
   "cell_type": "code",
   "execution_count": 2,
   "id": "b4f0b676-de03-4f6d-a207-a6d11d656d55",
   "metadata": {},
   "outputs": [
    {
     "name": "stdout",
     "output_type": "stream",
     "text": [
      "lrwxrwxrwx 1 ra98gaq pn52ra 35 Feb  4 15:06 /home/data -> /dss/dssfs03/pn52re/pn52re-dss-0001\n"
     ]
    }
   ],
   "source": [
    "data_dir = os.path.abspath(\"../home/data\")\n",
    "!ls -l $data_dir"
   ]
  },
  {
   "cell_type": "code",
   "execution_count": 3,
   "id": "060a0982-8ec2-4b6f-9103-d4cd755027eb",
   "metadata": {},
   "outputs": [
    {
     "name": "stdout",
     "output_type": "stream",
     "text": [
      "lrwxrwxrwx 1 ra98gaq pn52ra 35 Feb  4 17:22 /home/archive -> /dss/dssfs03/pn52re/pn52re-dss-0000\n"
     ]
    }
   ],
   "source": [
    "archive_dir = os.path.abspath(\"../home/archive\")\n",
    "!ls -l $archive_dir"
   ]
  },
  {
   "cell_type": "code",
   "execution_count": 4,
   "id": "479f0a3e-a458-45f9-b8a5-85fa1a489ceb",
   "metadata": {},
   "outputs": [],
   "source": [
    "with open(os.path.join(data_dir, \"cellseg-benchmark\", \"sample_paths.json\")) as file:\n",
    "    sample_paths = json.load(file)"
   ]
  },
  {
   "cell_type": "markdown",
   "id": "68dabe36-3604-453f-80f3-3ae4211ab293",
   "metadata": {},
   "source": [
    "# Create sdatas from Merscope output"
   ]
  },
  {
   "cell_type": "code",
   "execution_count": 5,
   "id": "63a2b301-1dc5-4cdd-9331-636bc5a113f4",
   "metadata": {},
   "outputs": [],
   "source": [
    "import os\n",
    "import spatialdata_io\n",
    "\n",
    "def process_merscope(sample_name, data_dir, sample_paths, zmode):\n",
    "    \"\"\"Load and save a MERSCOPE sample as sdata with specified z_layers configuration.\"\"\"\n",
    "    if zmode not in {\"z3\", \"3d\"}:\n",
    "        raise ValueError(f\"Invalid zmode: {zmode}\")\n",
    "    sdata_file = os.path.join(data_dir, \"cellseg-benchmark\", \"samples\", sample_name, f\"sdata_{zmode}.zarr\")\n",
    "    if os.path.exists(sdata_file):\n",
    "        print(f\"Skipping {sample_name}: {zmode} file already exists\")\n",
    "        return   \n",
    "    sdata = spatialdata_io.merscope(\n",
    "        sample_paths[sample_name],\n",
    "        z_layers = 3 if zmode == \"z3\" else range(7),\n",
    "        backend=None,\n",
    "        cells_boundaries=False,\n",
    "        cells_table=False,\n",
    "        mosaic_images=True,\n",
    "        transcripts=True,\n",
    "        slide_name=\"_\".join(sample_name.split(\"_\")[:2]),\n",
    "        region_name=sample_name.split(\"_\")[2],\n",
    "    )\n",
    "    os.makedirs(os.path.dirname(sdata_file), exist_ok=True)\n",
    "    sdata.write(sdata_file, overwrite=False)"
   ]
  },
  {
   "cell_type": "code",
   "execution_count": 6,
   "id": "08e7e815-309e-49e8-a841-12fa0487f608",
   "metadata": {
    "scrolled": true
   },
   "outputs": [
    {
     "name": "stdout",
     "output_type": "stream",
     "text": [
      "\u001b[34mINFO    \u001b[0m The column \u001b[32m\"global_x\"\u001b[0m has now been renamed to \u001b[32m\"x\"\u001b[0m; the column \u001b[32m\"x\"\u001b[0m was already present in the dataframe,   \n",
      "         and will be dropped.                                                                                      \n",
      "\u001b[34mINFO    \u001b[0m The column \u001b[32m\"global_y\"\u001b[0m has now been renamed to \u001b[32m\"y\"\u001b[0m; the column \u001b[32m\"y\"\u001b[0m was already present in the dataframe,   \n",
      "         and will be dropped.                                                                                      \n"
     ]
    },
    {
     "name": "stderr",
     "output_type": "stream",
     "text": [
      "/dss/dsshome1/0C/ra98gaq/miniconda3/envs/sdata/lib/python3.11/functools.py:946: UserWarning: The index of the dataframe is not monotonic increasing. It is recommended to sort the data to adjust the order of the index before calling .parse() (or call `parse(sort=True)`) to avoid possible problems due to unknown divisions.\n",
      "  return method.__get__(obj, cls)(*args, **kwargs)\n"
     ]
    },
    {
     "name": "stdout",
     "output_type": "stream",
     "text": [
      "\u001b[34mINFO    \u001b[0m The Zarr backing store has been changed from \u001b[3;35mNone\u001b[0m the new file path:                                      \n",
      "         \u001b[35m/home/data/cellseg-benchmark/samples/foxf2_s2_r1/\u001b[0m\u001b[95msdata_z3.zarr\u001b[0m                                            \n",
      "\u001b[34mINFO    \u001b[0m The column \u001b[32m\"global_x\"\u001b[0m has now been renamed to \u001b[32m\"x\"\u001b[0m; the column \u001b[32m\"x\"\u001b[0m was already present in the dataframe,   \n",
      "         and will be dropped.                                                                                      \n",
      "\u001b[34mINFO    \u001b[0m The column \u001b[32m\"global_y\"\u001b[0m has now been renamed to \u001b[32m\"y\"\u001b[0m; the column \u001b[32m\"y\"\u001b[0m was already present in the dataframe,   \n",
      "         and will be dropped.                                                                                      \n"
     ]
    },
    {
     "name": "stderr",
     "output_type": "stream",
     "text": [
      "/dss/dsshome1/0C/ra98gaq/miniconda3/envs/sdata/lib/python3.11/functools.py:946: UserWarning: The index of the dataframe is not monotonic increasing. It is recommended to sort the data to adjust the order of the index before calling .parse() (or call `parse(sort=True)`) to avoid possible problems due to unknown divisions.\n",
      "  return method.__get__(obj, cls)(*args, **kwargs)\n"
     ]
    },
    {
     "name": "stdout",
     "output_type": "stream",
     "text": [
      "\u001b[34mINFO    \u001b[0m The Zarr backing store has been changed from \u001b[3;35mNone\u001b[0m the new file path:                                      \n",
      "         \u001b[35m/home/data/cellseg-benchmark/samples/foxf2_s2_r1/\u001b[0m\u001b[95msdata_3d.zarr\u001b[0m                                            \n"
     ]
    }
   ],
   "source": [
    "# process foxf2_s2_r1\n",
    "sample_name = \"foxf2_s2_r1\"\n",
    "for zmode in ['z3', '3d']:\n",
    "    process_merscope(sample_name, data_dir, sample_paths, zmode)"
   ]
  },
  {
   "cell_type": "code",
   "execution_count": 7,
   "id": "229dcfe7-7a34-47d0-b3b6-95c37c8119e0",
   "metadata": {
    "scrolled": true
   },
   "outputs": [
    {
     "name": "stdout",
     "output_type": "stream",
     "text": [
      "\u001b[34mINFO    \u001b[0m The column \u001b[32m\"global_x\"\u001b[0m has now been renamed to \u001b[32m\"x\"\u001b[0m; the column \u001b[32m\"x\"\u001b[0m was already present in the dataframe,   \n",
      "         and will be dropped.                                                                                      \n",
      "\u001b[34mINFO    \u001b[0m The column \u001b[32m\"global_y\"\u001b[0m has now been renamed to \u001b[32m\"y\"\u001b[0m; the column \u001b[32m\"y\"\u001b[0m was already present in the dataframe,   \n",
      "         and will be dropped.                                                                                      \n"
     ]
    },
    {
     "name": "stderr",
     "output_type": "stream",
     "text": [
      "/dss/dsshome1/0C/ra98gaq/miniconda3/envs/sdata/lib/python3.11/functools.py:946: UserWarning: The index of the dataframe is not monotonic increasing. It is recommended to sort the data to adjust the order of the index before calling .parse() (or call `parse(sort=True)`) to avoid possible problems due to unknown divisions.\n",
      "  return method.__get__(obj, cls)(*args, **kwargs)\n"
     ]
    },
    {
     "name": "stdout",
     "output_type": "stream",
     "text": [
      "\u001b[34mINFO    \u001b[0m The Zarr backing store has been changed from \u001b[3;35mNone\u001b[0m the new file path:                                      \n",
      "         \u001b[35m/home/data/cellseg-benchmark/samples/foxf2_s1_r0/\u001b[0m\u001b[95msdata_z3.zarr\u001b[0m                                            \n",
      "\u001b[34mINFO    \u001b[0m The column \u001b[32m\"global_x\"\u001b[0m has now been renamed to \u001b[32m\"x\"\u001b[0m; the column \u001b[32m\"x\"\u001b[0m was already present in the dataframe,   \n",
      "         and will be dropped.                                                                                      \n",
      "\u001b[34mINFO    \u001b[0m The column \u001b[32m\"global_y\"\u001b[0m has now been renamed to \u001b[32m\"y\"\u001b[0m; the column \u001b[32m\"y\"\u001b[0m was already present in the dataframe,   \n",
      "         and will be dropped.                                                                                      \n"
     ]
    },
    {
     "name": "stderr",
     "output_type": "stream",
     "text": [
      "/dss/dsshome1/0C/ra98gaq/miniconda3/envs/sdata/lib/python3.11/functools.py:946: UserWarning: The index of the dataframe is not monotonic increasing. It is recommended to sort the data to adjust the order of the index before calling .parse() (or call `parse(sort=True)`) to avoid possible problems due to unknown divisions.\n",
      "  return method.__get__(obj, cls)(*args, **kwargs)\n"
     ]
    },
    {
     "name": "stdout",
     "output_type": "stream",
     "text": [
      "\u001b[34mINFO    \u001b[0m The Zarr backing store has been changed from \u001b[3;35mNone\u001b[0m the new file path:                                      \n",
      "         \u001b[35m/home/data/cellseg-benchmark/samples/foxf2_s1_r1/\u001b[0m\u001b[95msdata_z3.zarr\u001b[0m                                            \n",
      "\u001b[34mINFO    \u001b[0m The column \u001b[32m\"global_x\"\u001b[0m has now been renamed to \u001b[32m\"x\"\u001b[0m; the column \u001b[32m\"x\"\u001b[0m was already present in the dataframe,   \n",
      "         and will be dropped.                                                                                      \n",
      "\u001b[34mINFO    \u001b[0m The column \u001b[32m\"global_y\"\u001b[0m has now been renamed to \u001b[32m\"y\"\u001b[0m; the column \u001b[32m\"y\"\u001b[0m was already present in the dataframe,   \n",
      "         and will be dropped.                                                                                      \n"
     ]
    },
    {
     "name": "stderr",
     "output_type": "stream",
     "text": [
      "/dss/dsshome1/0C/ra98gaq/miniconda3/envs/sdata/lib/python3.11/functools.py:946: UserWarning: The index of the dataframe is not monotonic increasing. It is recommended to sort the data to adjust the order of the index before calling .parse() (or call `parse(sort=True)`) to avoid possible problems due to unknown divisions.\n",
      "  return method.__get__(obj, cls)(*args, **kwargs)\n"
     ]
    },
    {
     "name": "stdout",
     "output_type": "stream",
     "text": [
      "\u001b[34mINFO    \u001b[0m The Zarr backing store has been changed from \u001b[3;35mNone\u001b[0m the new file path:                                      \n",
      "         \u001b[35m/home/data/cellseg-benchmark/samples/foxf2_s2_r0/\u001b[0m\u001b[95msdata_z3.zarr\u001b[0m                                            \n",
      "Skipping foxf2_s2_r1: z3 file already exists\n",
      "\u001b[34mINFO    \u001b[0m The column \u001b[32m\"global_x\"\u001b[0m has now been renamed to \u001b[32m\"x\"\u001b[0m; the column \u001b[32m\"x\"\u001b[0m was already present in the dataframe,   \n",
      "         and will be dropped.                                                                                      \n",
      "\u001b[34mINFO    \u001b[0m The column \u001b[32m\"global_y\"\u001b[0m has now been renamed to \u001b[32m\"y\"\u001b[0m; the column \u001b[32m\"y\"\u001b[0m was already present in the dataframe,   \n",
      "         and will be dropped.                                                                                      \n"
     ]
    },
    {
     "name": "stderr",
     "output_type": "stream",
     "text": [
      "/dss/dsshome1/0C/ra98gaq/miniconda3/envs/sdata/lib/python3.11/functools.py:946: UserWarning: The index of the dataframe is not monotonic increasing. It is recommended to sort the data to adjust the order of the index before calling .parse() (or call `parse(sort=True)`) to avoid possible problems due to unknown divisions.\n",
      "  return method.__get__(obj, cls)(*args, **kwargs)\n"
     ]
    },
    {
     "name": "stdout",
     "output_type": "stream",
     "text": [
      "\u001b[34mINFO    \u001b[0m The Zarr backing store has been changed from \u001b[3;35mNone\u001b[0m the new file path:                                      \n",
      "         \u001b[35m/home/data/cellseg-benchmark/samples/foxf2_s2_r2/\u001b[0m\u001b[95msdata_z3.zarr\u001b[0m                                            \n",
      "\u001b[34mINFO    \u001b[0m The column \u001b[32m\"global_x\"\u001b[0m has now been renamed to \u001b[32m\"x\"\u001b[0m; the column \u001b[32m\"x\"\u001b[0m was already present in the dataframe,   \n",
      "         and will be dropped.                                                                                      \n",
      "\u001b[34mINFO    \u001b[0m The column \u001b[32m\"global_y\"\u001b[0m has now been renamed to \u001b[32m\"y\"\u001b[0m; the column \u001b[32m\"y\"\u001b[0m was already present in the dataframe,   \n",
      "         and will be dropped.                                                                                      \n"
     ]
    },
    {
     "name": "stderr",
     "output_type": "stream",
     "text": [
      "/dss/dsshome1/0C/ra98gaq/miniconda3/envs/sdata/lib/python3.11/functools.py:946: UserWarning: The index of the dataframe is not monotonic increasing. It is recommended to sort the data to adjust the order of the index before calling .parse() (or call `parse(sort=True)`) to avoid possible problems due to unknown divisions.\n",
      "  return method.__get__(obj, cls)(*args, **kwargs)\n"
     ]
    },
    {
     "name": "stdout",
     "output_type": "stream",
     "text": [
      "\u001b[34mINFO    \u001b[0m The Zarr backing store has been changed from \u001b[3;35mNone\u001b[0m the new file path:                                      \n",
      "         \u001b[35m/home/data/cellseg-benchmark/samples/foxf2_s3_r0/\u001b[0m\u001b[95msdata_z3.zarr\u001b[0m                                            \n",
      "\u001b[34mINFO    \u001b[0m The column \u001b[32m\"global_x\"\u001b[0m has now been renamed to \u001b[32m\"x\"\u001b[0m; the column \u001b[32m\"x\"\u001b[0m was already present in the dataframe,   \n",
      "         and will be dropped.                                                                                      \n",
      "\u001b[34mINFO    \u001b[0m The column \u001b[32m\"global_y\"\u001b[0m has now been renamed to \u001b[32m\"y\"\u001b[0m; the column \u001b[32m\"y\"\u001b[0m was already present in the dataframe,   \n",
      "         and will be dropped.                                                                                      \n"
     ]
    },
    {
     "name": "stderr",
     "output_type": "stream",
     "text": [
      "/dss/dsshome1/0C/ra98gaq/miniconda3/envs/sdata/lib/python3.11/functools.py:946: UserWarning: The index of the dataframe is not monotonic increasing. It is recommended to sort the data to adjust the order of the index before calling .parse() (or call `parse(sort=True)`) to avoid possible problems due to unknown divisions.\n",
      "  return method.__get__(obj, cls)(*args, **kwargs)\n"
     ]
    },
    {
     "name": "stdout",
     "output_type": "stream",
     "text": [
      "\u001b[34mINFO    \u001b[0m The Zarr backing store has been changed from \u001b[3;35mNone\u001b[0m the new file path:                                      \n",
      "         \u001b[35m/home/data/cellseg-benchmark/samples/foxf2_s3_r1/\u001b[0m\u001b[95msdata_z3.zarr\u001b[0m                                            \n",
      "\u001b[34mINFO    \u001b[0m The column \u001b[32m\"global_x\"\u001b[0m has now been renamed to \u001b[32m\"x\"\u001b[0m; the column \u001b[32m\"x\"\u001b[0m was already present in the dataframe,   \n",
      "         and will be dropped.                                                                                      \n",
      "\u001b[34mINFO    \u001b[0m The column \u001b[32m\"global_y\"\u001b[0m has now been renamed to \u001b[32m\"y\"\u001b[0m; the column \u001b[32m\"y\"\u001b[0m was already present in the dataframe,   \n",
      "         and will be dropped.                                                                                      \n"
     ]
    },
    {
     "name": "stderr",
     "output_type": "stream",
     "text": [
      "/dss/dsshome1/0C/ra98gaq/miniconda3/envs/sdata/lib/python3.11/functools.py:946: UserWarning: The index of the dataframe is not monotonic increasing. It is recommended to sort the data to adjust the order of the index before calling .parse() (or call `parse(sort=True)`) to avoid possible problems due to unknown divisions.\n",
      "  return method.__get__(obj, cls)(*args, **kwargs)\n"
     ]
    },
    {
     "name": "stdout",
     "output_type": "stream",
     "text": [
      "\u001b[34mINFO    \u001b[0m The Zarr backing store has been changed from \u001b[3;35mNone\u001b[0m the new file path:                                      \n",
      "         \u001b[35m/home/data/cellseg-benchmark/samples/foxf2_s4_r0/\u001b[0m\u001b[95msdata_z3.zarr\u001b[0m                                            \n",
      "\u001b[34mINFO    \u001b[0m The column \u001b[32m\"global_x\"\u001b[0m has now been renamed to \u001b[32m\"x\"\u001b[0m; the column \u001b[32m\"x\"\u001b[0m was already present in the dataframe,   \n",
      "         and will be dropped.                                                                                      \n",
      "\u001b[34mINFO    \u001b[0m The column \u001b[32m\"global_y\"\u001b[0m has now been renamed to \u001b[32m\"y\"\u001b[0m; the column \u001b[32m\"y\"\u001b[0m was already present in the dataframe,   \n",
      "         and will be dropped.                                                                                      \n"
     ]
    },
    {
     "name": "stderr",
     "output_type": "stream",
     "text": [
      "/dss/dsshome1/0C/ra98gaq/miniconda3/envs/sdata/lib/python3.11/functools.py:946: UserWarning: The index of the dataframe is not monotonic increasing. It is recommended to sort the data to adjust the order of the index before calling .parse() (or call `parse(sort=True)`) to avoid possible problems due to unknown divisions.\n",
      "  return method.__get__(obj, cls)(*args, **kwargs)\n"
     ]
    },
    {
     "name": "stdout",
     "output_type": "stream",
     "text": [
      "\u001b[34mINFO    \u001b[0m The Zarr backing store has been changed from \u001b[3;35mNone\u001b[0m the new file path:                                      \n",
      "         \u001b[35m/home/data/cellseg-benchmark/samples/foxf2_s4_r1/\u001b[0m\u001b[95msdata_z3.zarr\u001b[0m                                            \n",
      "\u001b[34mINFO    \u001b[0m The column \u001b[32m\"global_x\"\u001b[0m has now been renamed to \u001b[32m\"x\"\u001b[0m; the column \u001b[32m\"x\"\u001b[0m was already present in the dataframe,   \n",
      "         and will be dropped.                                                                                      \n",
      "\u001b[34mINFO    \u001b[0m The column \u001b[32m\"global_y\"\u001b[0m has now been renamed to \u001b[32m\"y\"\u001b[0m; the column \u001b[32m\"y\"\u001b[0m was already present in the dataframe,   \n",
      "         and will be dropped.                                                                                      \n"
     ]
    },
    {
     "name": "stderr",
     "output_type": "stream",
     "text": [
      "/dss/dsshome1/0C/ra98gaq/miniconda3/envs/sdata/lib/python3.11/functools.py:946: UserWarning: The index of the dataframe is not monotonic increasing. It is recommended to sort the data to adjust the order of the index before calling .parse() (or call `parse(sort=True)`) to avoid possible problems due to unknown divisions.\n",
      "  return method.__get__(obj, cls)(*args, **kwargs)\n"
     ]
    },
    {
     "name": "stdout",
     "output_type": "stream",
     "text": [
      "\u001b[34mINFO    \u001b[0m The Zarr backing store has been changed from \u001b[3;35mNone\u001b[0m the new file path:                                      \n",
      "         \u001b[35m/home/data/cellseg-benchmark/samples/foxf2_s5_r0/\u001b[0m\u001b[95msdata_z3.zarr\u001b[0m                                            \n",
      "\u001b[34mINFO    \u001b[0m The column \u001b[32m\"global_x\"\u001b[0m has now been renamed to \u001b[32m\"x\"\u001b[0m; the column \u001b[32m\"x\"\u001b[0m was already present in the dataframe,   \n",
      "         and will be dropped.                                                                                      \n",
      "\u001b[34mINFO    \u001b[0m The column \u001b[32m\"global_y\"\u001b[0m has now been renamed to \u001b[32m\"y\"\u001b[0m; the column \u001b[32m\"y\"\u001b[0m was already present in the dataframe,   \n",
      "         and will be dropped.                                                                                      \n"
     ]
    },
    {
     "name": "stderr",
     "output_type": "stream",
     "text": [
      "/dss/dsshome1/0C/ra98gaq/miniconda3/envs/sdata/lib/python3.11/functools.py:946: UserWarning: The index of the dataframe is not monotonic increasing. It is recommended to sort the data to adjust the order of the index before calling .parse() (or call `parse(sort=True)`) to avoid possible problems due to unknown divisions.\n",
      "  return method.__get__(obj, cls)(*args, **kwargs)\n"
     ]
    },
    {
     "name": "stdout",
     "output_type": "stream",
     "text": [
      "\u001b[34mINFO    \u001b[0m The Zarr backing store has been changed from \u001b[3;35mNone\u001b[0m the new file path:                                      \n",
      "         \u001b[35m/home/data/cellseg-benchmark/samples/foxf2_s5_r1/\u001b[0m\u001b[95msdata_z3.zarr\u001b[0m                                            \n",
      "\u001b[34mINFO    \u001b[0m The column \u001b[32m\"global_x\"\u001b[0m has now been renamed to \u001b[32m\"x\"\u001b[0m; the column \u001b[32m\"x\"\u001b[0m was already present in the dataframe,   \n",
      "         and will be dropped.                                                                                      \n",
      "\u001b[34mINFO    \u001b[0m The column \u001b[32m\"global_y\"\u001b[0m has now been renamed to \u001b[32m\"y\"\u001b[0m; the column \u001b[32m\"y\"\u001b[0m was already present in the dataframe,   \n",
      "         and will be dropped.                                                                                      \n"
     ]
    },
    {
     "name": "stderr",
     "output_type": "stream",
     "text": [
      "/dss/dsshome1/0C/ra98gaq/miniconda3/envs/sdata/lib/python3.11/functools.py:946: UserWarning: The index of the dataframe is not monotonic increasing. It is recommended to sort the data to adjust the order of the index before calling .parse() (or call `parse(sort=True)`) to avoid possible problems due to unknown divisions.\n",
      "  return method.__get__(obj, cls)(*args, **kwargs)\n"
     ]
    },
    {
     "name": "stdout",
     "output_type": "stream",
     "text": [
      "\u001b[34mINFO    \u001b[0m The Zarr backing store has been changed from \u001b[3;35mNone\u001b[0m the new file path:                                      \n",
      "         \u001b[35m/home/data/cellseg-benchmark/samples/foxf2_s6_r0/\u001b[0m\u001b[95msdata_z3.zarr\u001b[0m                                            \n",
      "\u001b[34mINFO    \u001b[0m The column \u001b[32m\"global_x\"\u001b[0m has now been renamed to \u001b[32m\"x\"\u001b[0m; the column \u001b[32m\"x\"\u001b[0m was already present in the dataframe,   \n",
      "         and will be dropped.                                                                                      \n",
      "\u001b[34mINFO    \u001b[0m The column \u001b[32m\"global_y\"\u001b[0m has now been renamed to \u001b[32m\"y\"\u001b[0m; the column \u001b[32m\"y\"\u001b[0m was already present in the dataframe,   \n",
      "         and will be dropped.                                                                                      \n"
     ]
    },
    {
     "name": "stderr",
     "output_type": "stream",
     "text": [
      "/dss/dsshome1/0C/ra98gaq/miniconda3/envs/sdata/lib/python3.11/functools.py:946: UserWarning: The index of the dataframe is not monotonic increasing. It is recommended to sort the data to adjust the order of the index before calling .parse() (or call `parse(sort=True)`) to avoid possible problems due to unknown divisions.\n",
      "  return method.__get__(obj, cls)(*args, **kwargs)\n"
     ]
    },
    {
     "name": "stdout",
     "output_type": "stream",
     "text": [
      "\u001b[34mINFO    \u001b[0m The Zarr backing store has been changed from \u001b[3;35mNone\u001b[0m the new file path:                                      \n",
      "         \u001b[35m/home/data/cellseg-benchmark/samples/foxf2_s6_r1/\u001b[0m\u001b[95msdata_z3.zarr\u001b[0m                                            \n",
      "\u001b[34mINFO    \u001b[0m The column \u001b[32m\"global_x\"\u001b[0m has now been renamed to \u001b[32m\"x\"\u001b[0m; the column \u001b[32m\"x\"\u001b[0m was already present in the dataframe,   \n",
      "         and will be dropped.                                                                                      \n",
      "\u001b[34mINFO    \u001b[0m The column \u001b[32m\"global_y\"\u001b[0m has now been renamed to \u001b[32m\"y\"\u001b[0m; the column \u001b[32m\"y\"\u001b[0m was already present in the dataframe,   \n",
      "         and will be dropped.                                                                                      \n"
     ]
    },
    {
     "name": "stderr",
     "output_type": "stream",
     "text": [
      "/dss/dsshome1/0C/ra98gaq/miniconda3/envs/sdata/lib/python3.11/functools.py:946: UserWarning: The index of the dataframe is not monotonic increasing. It is recommended to sort the data to adjust the order of the index before calling .parse() (or call `parse(sort=True)`) to avoid possible problems due to unknown divisions.\n",
      "  return method.__get__(obj, cls)(*args, **kwargs)\n"
     ]
    },
    {
     "name": "stdout",
     "output_type": "stream",
     "text": [
      "\u001b[34mINFO    \u001b[0m The Zarr backing store has been changed from \u001b[3;35mNone\u001b[0m the new file path:                                      \n",
      "         \u001b[35m/home/data/cellseg-benchmark/samples/foxf2_s6_r2/\u001b[0m\u001b[95msdata_z3.zarr\u001b[0m                                            \n",
      "\u001b[34mINFO    \u001b[0m The column \u001b[32m\"global_x\"\u001b[0m has now been renamed to \u001b[32m\"x\"\u001b[0m; the column \u001b[32m\"x\"\u001b[0m was already present in the dataframe,   \n",
      "         and will be dropped.                                                                                      \n",
      "\u001b[34mINFO    \u001b[0m The column \u001b[32m\"global_y\"\u001b[0m has now been renamed to \u001b[32m\"y\"\u001b[0m; the column \u001b[32m\"y\"\u001b[0m was already present in the dataframe,   \n",
      "         and will be dropped.                                                                                      \n"
     ]
    },
    {
     "name": "stderr",
     "output_type": "stream",
     "text": [
      "/dss/dsshome1/0C/ra98gaq/miniconda3/envs/sdata/lib/python3.11/functools.py:946: UserWarning: The index of the dataframe is not monotonic increasing. It is recommended to sort the data to adjust the order of the index before calling .parse() (or call `parse(sort=True)`) to avoid possible problems due to unknown divisions.\n",
      "  return method.__get__(obj, cls)(*args, **kwargs)\n"
     ]
    },
    {
     "name": "stdout",
     "output_type": "stream",
     "text": [
      "\u001b[34mINFO    \u001b[0m The Zarr backing store has been changed from \u001b[3;35mNone\u001b[0m the new file path:                                      \n",
      "         \u001b[35m/home/data/cellseg-benchmark/samples/foxf2_s7_r0/\u001b[0m\u001b[95msdata_z3.zarr\u001b[0m                                            \n",
      "\u001b[34mINFO    \u001b[0m The column \u001b[32m\"global_x\"\u001b[0m has now been renamed to \u001b[32m\"x\"\u001b[0m; the column \u001b[32m\"x\"\u001b[0m was already present in the dataframe,   \n",
      "         and will be dropped.                                                                                      \n",
      "\u001b[34mINFO    \u001b[0m The column \u001b[32m\"global_y\"\u001b[0m has now been renamed to \u001b[32m\"y\"\u001b[0m; the column \u001b[32m\"y\"\u001b[0m was already present in the dataframe,   \n",
      "         and will be dropped.                                                                                      \n"
     ]
    },
    {
     "name": "stderr",
     "output_type": "stream",
     "text": [
      "/dss/dsshome1/0C/ra98gaq/miniconda3/envs/sdata/lib/python3.11/functools.py:946: UserWarning: The index of the dataframe is not monotonic increasing. It is recommended to sort the data to adjust the order of the index before calling .parse() (or call `parse(sort=True)`) to avoid possible problems due to unknown divisions.\n",
      "  return method.__get__(obj, cls)(*args, **kwargs)\n"
     ]
    },
    {
     "name": "stdout",
     "output_type": "stream",
     "text": [
      "\u001b[34mINFO    \u001b[0m The Zarr backing store has been changed from \u001b[3;35mNone\u001b[0m the new file path:                                      \n",
      "         \u001b[35m/home/data/cellseg-benchmark/samples/foxf2_s7_r1/\u001b[0m\u001b[95msdata_z3.zarr\u001b[0m                                            \n"
     ]
    }
   ],
   "source": [
    "# process all samples in z3\n",
    "zmodes = ['z3']\n",
    "for sample_name in sample_paths.keys():\n",
    "    for zmode in zmodes:\n",
    "        process_merscope(sample_name, data_dir, sample_paths, zmode)"
   ]
  },
  {
   "cell_type": "code",
   "execution_count": null,
   "id": "b74ce198-81e6-4efb-9c61-458ab8765446",
   "metadata": {},
   "outputs": [],
   "source": []
  },
  {
   "cell_type": "markdown",
   "id": "b48c6254-2405-4137-bbbe-bbfcfa089a46",
   "metadata": {},
   "source": [
    "# Add data from segmentation outputs: shapes and adatas"
   ]
  },
  {
   "cell_type": "code",
   "execution_count": 5,
   "id": "9dda7f9f-ac18-4d55-90e6-16b09459ad7f",
   "metadata": {},
   "outputs": [],
   "source": [
    "sample_name = \"foxf2_s2_r1\""
   ]
  },
  {
   "cell_type": "code",
   "execution_count": 6,
   "id": "3682c454-7c23-4376-b6b2-0d8301aca925",
   "metadata": {},
   "outputs": [
    {
     "name": "stderr",
     "output_type": "stream",
     "text": [
      "/dss/dsshome1/0C/ra98gaq/miniconda3/envs/sdata/lib/python3.11/site-packages/zarr/creation.py:614: UserWarning: ignoring keyword argument 'read_only'\n",
      "  compressor, fill_value = _kwargs_compat(compressor, fill_value, kwargs)\n",
      "/dss/dsshome1/0C/ra98gaq/miniconda3/envs/sdata/lib/python3.11/site-packages/zarr/creation.py:614: UserWarning: ignoring keyword argument 'read_only'\n",
      "  compressor, fill_value = _kwargs_compat(compressor, fill_value, kwargs)\n",
      "/dss/dsshome1/0C/ra98gaq/miniconda3/envs/sdata/lib/python3.11/site-packages/zarr/creation.py:614: UserWarning: ignoring keyword argument 'read_only'\n",
      "  compressor, fill_value = _kwargs_compat(compressor, fill_value, kwargs)\n",
      "/dss/dsshome1/0C/ra98gaq/miniconda3/envs/sdata/lib/python3.11/site-packages/zarr/creation.py:614: UserWarning: ignoring keyword argument 'read_only'\n",
      "  compressor, fill_value = _kwargs_compat(compressor, fill_value, kwargs)\n",
      "/dss/dsshome1/0C/ra98gaq/miniconda3/envs/sdata/lib/python3.11/site-packages/zarr/creation.py:614: UserWarning: ignoring keyword argument 'read_only'\n",
      "  compressor, fill_value = _kwargs_compat(compressor, fill_value, kwargs)\n"
     ]
    }
   ],
   "source": [
    "# load main sdata\n",
    "sdata_path = os.path.join(data_dir, \"cellseg-benchmark\", \"samples\", sample_name, \"sdata_z3.zarr\")\n",
    "if 'sdata_main' not in locals():\n",
    "    sdata_main = sd.read_zarr(sdata_path)"
   ]
  },
  {
   "cell_type": "code",
   "execution_count": 7,
   "id": "344d75ea-18b3-46b2-a88e-416968ca0c26",
   "metadata": {},
   "outputs": [
    {
     "data": {
      "text/plain": [
       "SpatialData object, with associated Zarr store: /dss/dssfs03/pn52re/pn52re-dss-0001/cellseg-benchmark/samples/foxf2_s2_r1/sdata_z3.zarr\n",
       "├── Images\n",
       "│     └── 'foxf2_s2_r1_z3': DataTree[cyx] (7, 54456, 65675), (7, 27228, 32837), (7, 13614, 16418), (7, 6807, 8209), (7, 3403, 4104)\n",
       "└── Points\n",
       "      └── 'foxf2_s2_r1_transcripts': DataFrame with shape: (<Delayed>, 9) (2D points)\n",
       "with coordinate systems:\n",
       "    ▸ 'global', with elements:\n",
       "        foxf2_s2_r1_z3 (Images), foxf2_s2_r1_transcripts (Points)"
      ]
     },
     "execution_count": 7,
     "metadata": {},
     "output_type": "execute_result"
    }
   ],
   "source": [
    "sdata_main"
   ]
  },
  {
   "cell_type": "code",
   "execution_count": 8,
   "id": "d72e6e5b-645c-46dc-aad5-d9356f0749aa",
   "metadata": {},
   "outputs": [],
   "source": [
    "# default MERLIN output from Merscope (cyto2 on DAPI/PolyT)"
   ]
  },
  {
   "cell_type": "code",
   "execution_count": null,
   "id": "ee12aa7e-2b3d-4dec-8d80-9bb4daf31712",
   "metadata": {},
   "outputs": [],
   "source": [
    "import spatialdata as sd\n",
    "import spatialdata_io\n",
    "\n",
    "def process_merlin_segmentation(sample_name, sample_paths, sdata_main, write_to_disk=True):\n",
    "    \"\"\"\n",
    "    Process Merlin-specific segmentation data and add it to the main spatial data object.\n",
    "    \n",
    "    Args:\n",
    "        sample_name: Name of the sample\n",
    "        sample_paths: Dictionary mapping sample names to their file paths\n",
    "        sdata_main: Main spatial data object to update\n",
    "        write_to_disk: Whether to write elements to disk immediately\n",
    "    \n",
    "    Returns:\n",
    "        Updated sdata_main object\n",
    "    \"\"\"\n",
    "    \n",
    "    seg_method = \"Cellpose_1_Merlin\"\n",
    "    \n",
    "    # Load Merscope data\n",
    "    if f\"boundaries_{seg_method}\" not in sdata_main or f\"adata_{seg_method}\" not in sdata_main:\n",
    "        sdata = spatialdata_io.merscope(\n",
    "            sample_paths[sample_name],\n",
    "            z_layers=3,\n",
    "            backend=None,\n",
    "            cells_boundaries=True,\n",
    "            cells_table=True,\n",
    "            mosaic_images=False,\n",
    "            transcripts=False,\n",
    "            slide_name=\"_\".join(sample_name.split(\"_\")[:2]),\n",
    "            region_name=sample_name.split(\"_\")[2],\n",
    "        )\n",
    "    \n",
    "    # Handle boundaries\n",
    "    if f\"boundaries_{seg_method}\" not in sdata_main:\n",
    "        polygons = sd.deepcopy(sdata[f\"{sample_name}_polygons\"])\n",
    "        sdata_main[f\"boundaries_{seg_method}\"] = polygons\n",
    "        if write_to_disk:\n",
    "            sdata_main.write_element(f\"boundaries_{seg_method}\")\n",
    "    else:\n",
    "        print(f\"Skipping {seg_method} as boundaries_{seg_method} exist already.\")\n",
    "        \n",
    "    # Handle table\n",
    "    if f\"adata_{seg_method}\" not in sdata_main:\n",
    "        adata = sd.deepcopy(sdata[\"table\"])\n",
    "        sdata_main[f\"adata_{seg_method}\"] = adata\n",
    "        if write_to_disk:\n",
    "            sdata_main.write_element(f\"adata_{seg_method}\")\n",
    "     else:\n",
    "        print(f\"Skipping {seg_method} as adata_{seg_method} exist already.\")\n",
    "         \n",
    "    return sdata_main"
   ]
  },
  {
   "cell_type": "code",
   "execution_count": null,
   "id": "2855fd17-1c6d-4a2f-801b-25ba20ddb3f0",
   "metadata": {},
   "outputs": [],
   "source": [
    "process_merlin_segmentation(sample_name, sample_paths, sdata_main, write_to_disk=True)"
   ]
  },
  {
   "cell_type": "code",
   "execution_count": 14,
   "id": "1dfe1f40-8e01-4ce1-b71d-9060a413401c",
   "metadata": {},
   "outputs": [
    {
     "data": {
      "text/plain": [
       "SpatialData object, with associated Zarr store: /dss/dssfs03/pn52re/pn52re-dss-0001/cellseg-benchmark/samples/foxf2_s2_r1/sdata_z3.zarr\n",
       "├── Images\n",
       "│     └── 'foxf2_s2_r1_z3': DataTree[cyx] (7, 54456, 65675), (7, 27228, 32837), (7, 13614, 16418), (7, 6807, 8209), (7, 3403, 4104)\n",
       "├── Points\n",
       "│     └── 'foxf2_s2_r1_transcripts': DataFrame with shape: (<Delayed>, 9) (2D points)\n",
       "├── Shapes\n",
       "│     └── 'boundaries_Cellpose_1_Merlin': GeoDataFrame shape: (107013, 9) (2D shapes)\n",
       "└── Tables\n",
       "      └── 'adata_Cellpose_1_Merlin': AnnData (107013, 500)\n",
       "with coordinate systems:\n",
       "    ▸ 'global', with elements:\n",
       "        foxf2_s2_r1_z3 (Images), foxf2_s2_r1_transcripts (Points), boundaries_Cellpose_1_Merlin (Shapes)"
      ]
     },
     "execution_count": 14,
     "metadata": {},
     "output_type": "execute_result"
    }
   ],
   "source": [
    "sdata_main"
   ]
  },
  {
   "cell_type": "code",
   "execution_count": null,
   "id": "e6695d74-1b3b-4452-b739-29ca026cc323",
   "metadata": {},
   "outputs": [],
   "source": []
  },
  {
   "cell_type": "code",
   "execution_count": 15,
   "id": "09300a79-ff7d-4e6b-a71d-90161a575453",
   "metadata": {},
   "outputs": [],
   "source": [
    "# other segmentation approaches"
   ]
  },
  {
   "cell_type": "code",
   "execution_count": 29,
   "id": "6d4cc728-302e-4639-a6f5-36286355aa4f",
   "metadata": {},
   "outputs": [
    {
     "data": {
      "text/plain": [
       "['ComSeg',\n",
       " 'Cellpose_1_nuclei_model',\n",
       " 'Negative_Control_Rastered_50',\n",
       " 'Cellpose_2_DAPI_PolyT',\n",
       " 'Negative_Control_Rastered_20',\n",
       " 'Ficture',\n",
       " 'Baysor_3D',\n",
       " 'Cellpose_1_DAPI_PolyT',\n",
       " 'Negative_Control_Rastered_10',\n",
       " 'Negative_Control_Voronoi',\n",
       " 'Cellpose_2_DAPI_Transcripts',\n",
       " 'Cellpose_1_DAPI_Transcripts',\n",
       " 'Baysor_2D']"
      ]
     },
     "execution_count": 29,
     "metadata": {},
     "output_type": "execute_result"
    }
   ],
   "source": [
    "seg_methods = os.listdir(os.path.join(data_dir, \"cellseg-benchmark\", \"samples\", sample_name, \"results\"))\n",
    "seg_methods"
   ]
  },
  {
   "cell_type": "code",
   "execution_count": 1,
   "id": "57aeac32-00c7-4a5a-b68e-e2dcc73820ec",
   "metadata": {},
   "outputs": [
    {
     "name": "stderr",
     "output_type": "stream",
     "text": [
      "/dss/dsshome1/0C/ra98gaq/miniconda3/envs/sdata/lib/python3.11/site-packages/dask/dataframe/__init__.py:31: FutureWarning: The legacy Dask DataFrame implementation is deprecated and will be removed in a future version. Set the configuration option `dataframe.query-planning` to `True` or None to enable the new Dask Dataframe implementation and silence this warning.\n",
      "  warnings.warn(\n"
     ]
    }
   ],
   "source": [
    "import glob\n",
    "import os\n",
    "import spatialdata as sd\n",
    "\n",
    "def integrate_segmentation_data(data_dir, sample_name, seg_methods, sdata_main, write_to_disk=True):\n",
    "    \"\"\"\n",
    "    Integrate segmentation data from multiple methods into the main spatial data object.\n",
    "    \n",
    "    Args:\n",
    "        data_dir: Base directory for data\n",
    "        sample_name: Name of the sample\n",
    "        seg_methods: List of segmentation methods to process\n",
    "        sdata_main: Main spatial data object to update\n",
    "        write_to_disk: Whether to write elements to disk immediately\n",
    "    \n",
    "    Returns:\n",
    "        Updated sdata_main object\n",
    "    \"\"\"    \n",
    "    for seg_method in seg_methods:\n",
    "        seg_path = os.path.join(data_dir, \"cellseg-benchmark\", \"samples\", sample_name, \n",
    "                               \"results\", seg_method, \"sdata.zarr\")\n",
    "        if not os.path.exists(seg_path):\n",
    "            continue\n",
    "            \n",
    "        if f\"boundaries_{seg_method}\" not in sdata_main or f\"adata_{seg_method}\" not in sdata_main:\n",
    "            sdata = sd.read_zarr(seg_path)\n",
    "        \n",
    "        # Handle boundaries\n",
    "        if f\"boundaries_{seg_method}\" not in sdata_main:\n",
    "            base_dir = os.path.join(seg_path, \"shapes\")\n",
    "            boundary_files = [os.path.basename(f) for f in glob.glob(os.path.join(base_dir, \"*_boundaries\"))]\n",
    "            \n",
    "            if len(boundary_files) == 1:\n",
    "                sdata_main[f\"boundaries_{seg_method}\"] = sdata[boundary_files[0]]\n",
    "                if write_to_disk:\n",
    "                    sdata_main.write_element(f\"boundaries_{seg_method}\")\n",
    "            elif len(boundary_files) > 1:\n",
    "                print(f\"Multiple *boundaries files found for {seg_method}. Skipping.\")\n",
    "        else:\n",
    "            print(f\"Skipping {seg_method} as boundaries_{seg_method} exist already.\")\n",
    "        \n",
    "        # Handle tables\n",
    "        if f\"adata_{seg_method}\" not in sdata_main:\n",
    "            base_dir = os.path.join(seg_path, \"tables\")\n",
    "            table_files = [os.path.basename(f) for f in glob.glob(os.path.join(base_dir, \"table\"))]\n",
    "            \n",
    "            if len(table_files) == 1:\n",
    "                sdata_main[f\"adata_{seg_method}\"] = sdata[table_files[0]]\n",
    "                if write_to_disk:\n",
    "                    sdata_main.write_element(f\"adata_{seg_method}\")\n",
    "            elif len(table_files) > 1:\n",
    "                print(f\"Multiple table files found for {seg_method}. Skipping.\")\n",
    "            else:\n",
    "                print(f\"Table file missing for {seg_method}. Skipping.\")\n",
    "        else:\n",
    "            print(f\"Skipping {seg_method} as adata_{seg_method} exist already.\")\n",
    "    \n",
    "    return sdata_main"
   ]
  },
  {
   "cell_type": "code",
   "execution_count": null,
   "id": "c5995d19-b56b-42ef-9cbc-5ccc4d088ae8",
   "metadata": {},
   "outputs": [],
   "source": [
    "integrate_segmentation_data(data_dir, sample_name, seg_methods, sdata_main, write_to_disk=True)"
   ]
  },
  {
   "cell_type": "code",
   "execution_count": 37,
   "id": "be8f4a96-4cdd-4acb-8a49-274cf915b70d",
   "metadata": {},
   "outputs": [
    {
     "data": {
      "text/plain": [
       "['images/foxf2_s2_r1_z3',\n",
       " 'points/foxf2_s2_r1_transcripts',\n",
       " 'shapes/boundaries_Baysor_2D',\n",
       " 'shapes/boundaries_Baysor_3D',\n",
       " 'shapes/boundaries_Cellpose_1_DAPI_PolyT',\n",
       " 'shapes/boundaries_Cellpose_1_DAPI_Transcripts',\n",
       " 'shapes/boundaries_Cellpose_1_Merlin',\n",
       " 'shapes/boundaries_Cellpose_1_nuclei_model',\n",
       " 'shapes/boundaries_Cellpose_2_DAPI_PolyT',\n",
       " 'shapes/boundaries_Cellpose_2_DAPI_Transcripts',\n",
       " 'shapes/boundaries_ComSeg',\n",
       " 'shapes/boundaries_Negative_Control_Voronoi',\n",
       " 'tables/adata_Baysor_2D',\n",
       " 'tables/adata_Baysor_3D',\n",
       " 'tables/adata_Cellpose_1_DAPI_PolyT',\n",
       " 'tables/adata_Cellpose_1_DAPI_Transcripts',\n",
       " 'tables/adata_Cellpose_1_Merlin',\n",
       " 'tables/adata_Cellpose_1_nuclei_model',\n",
       " 'tables/adata_Cellpose_2_DAPI_PolyT',\n",
       " 'tables/adata_Cellpose_2_DAPI_Transcripts',\n",
       " 'tables/adata_ComSeg',\n",
       " 'tables/adata_Negative_Control_Rastered_10',\n",
       " 'tables/adata_Negative_Control_Rastered_20',\n",
       " 'tables/adata_Negative_Control_Rastered_50',\n",
       " 'tables/adata_Negative_Control_Voronoi']"
      ]
     },
     "execution_count": 37,
     "metadata": {},
     "output_type": "execute_result"
    }
   ],
   "source": [
    "sdata_main.elements_paths_on_disk()"
   ]
  },
  {
   "cell_type": "code",
   "execution_count": null,
   "id": "49b8e0b1-527e-45c2-9e48-7c65afb72414",
   "metadata": {},
   "outputs": [],
   "source": []
  }
 ],
 "metadata": {
  "kernelspec": {
   "display_name": "sdata",
   "language": "python",
   "name": "sdata"
  },
  "language_info": {
   "codemirror_mode": {
    "name": "ipython",
    "version": 3
   },
   "file_extension": ".py",
   "mimetype": "text/x-python",
   "name": "python",
   "nbconvert_exporter": "python",
   "pygments_lexer": "ipython3",
   "version": "3.11.11"
  }
 },
 "nbformat": 4,
 "nbformat_minor": 5
}
