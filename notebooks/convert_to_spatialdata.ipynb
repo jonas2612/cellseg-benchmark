{
 "cells": [
  {
   "cell_type": "markdown",
   "id": "3bfff940-72b3-4a54-8e0c-ea4dece4cde8",
   "metadata": {},
   "source": [
    "# Combine MERFISH FICTURE results in spatialdata object\n",
    "- create spatial data object\n",
    "- add pixel level factors\n",
    "- calculate transcript level factors"
   ]
  },
  {
   "cell_type": "code",
   "execution_count": 5,
   "id": "de743914-f239-4195-858e-d18faf9abd57",
   "metadata": {},
   "outputs": [],
   "source": [
    "import spatialdata\n",
    "import spatialdata_io\n",
    "import pandas as pd\n",
    "import gzip\n",
    "import dask.dataframe as dd\n",
    "from scipy.spatial import KDTree\n",
    "import numpy as np\n",
    "from spatialdata.models import PointsModel\n",
    "import os"
   ]
  },
  {
   "cell_type": "code",
   "execution_count": 11,
   "id": "fe9c2767-1aa1-4279-a2bc-5983f02ca6a6",
   "metadata": {},
   "outputs": [],
   "source": [
    "sdata_file = '/home/hspitzer/projects/cellseg_benchmark/data/processed_data/FOXF2/SLIDE2/REGION1/sdata.zarr'\n",
    "slide_name = 'slide2'\n",
    "region_name = 'region1'"
   ]
  },
  {
   "cell_type": "markdown",
   "id": "0e80434d",
   "metadata": {},
   "source": [
    "## Function definitions"
   ]
  },
  {
   "cell_type": "code",
   "execution_count": null,
   "id": "8ddd8ac6",
   "metadata": {},
   "outputs": [],
   "source": [
    "def update_element(sdata, element_name):\n",
    "    \"\"\"\n",
    "    Workaround for updating a backed element in sdata.\n",
    "    Adapted from https://github.com/scverse/spatialdata/blob/main/tests/io/test_readwrite.py#L156\n",
    "    \"\"\"\n",
    "    new_name = f'{element_name}_tmp'\n",
    "    name = element_name\n",
    "    #a a. write a backup copy of the data\n",
    "    sdata[new_name] = sdata[name]\n",
    "    sdata.write_element(new_name)\n",
    "    # a2. remove the in-memory copy from the SpatialData object (note,\n",
    "    # at this point the backup copy still exists on-disk)\n",
    "    del sdata[new_name]\n",
    "    del sdata[name]\n",
    "    # a3 load the backup copy into memory\n",
    "    sdata_copy = spatialdata.read_zarr(sdata.path)\n",
    "    # b1. rewrite the original data\n",
    "    sdata.delete_element_from_disk(name)\n",
    "    sdata[name] = sdata_copy[new_name]\n",
    "    sdata.write_element(name)\n",
    "    # b2. reload the new data into memory (because it has been written but in-memory it still points\n",
    "    # from the backup location)\n",
    "    sdata = spatialdata.read_zarr(sdata.path)\n",
    "    # c. remove the backup copy\n",
    "    del sdata[new_name]\n",
    "    sdata.delete_element_from_disk(new_name)"
   ]
  },
  {
   "cell_type": "markdown",
   "id": "d37013b7-5c56-4475-85fc-4ecf262f8547",
   "metadata": {},
   "source": [
    "## 1. Create spatial data object\n",
    "Will overwrite existing objects"
   ]
  },
  {
   "cell_type": "code",
   "execution_count": null,
   "id": "397f5936",
   "metadata": {},
   "outputs": [],
   "source": [
    "# needed for \"1. Create spatial data object\"\n",
    "merfish_results = '/home/hspitzer/projects/cellseg_benchmark/data/merfish_output/20240322_mousebrain-Slide02-cp-WT-PCKO/region_1'"
   ]
  },
  {
   "cell_type": "code",
   "execution_count": 23,
   "id": "9d6ec082-8383-4e04-b2fb-bd05f902bef0",
   "metadata": {},
   "outputs": [
    {
     "name": "stdout",
     "output_type": "stream",
     "text": [
      "\u001b[34mINFO    \u001b[0m The column \u001b[32m\"global_x\"\u001b[0m has now been renamed to \u001b[32m\"x\"\u001b[0m; the column \u001b[32m\"x\"\u001b[0m was already present in the dataframe,   \n",
      "         and will be dropped.                                                                                      \n",
      "\u001b[34mINFO    \u001b[0m The column \u001b[32m\"global_y\"\u001b[0m has now been renamed to \u001b[32m\"y\"\u001b[0m; the column \u001b[32m\"y\"\u001b[0m was already present in the dataframe,   \n",
      "         and will be dropped.                                                                                      \n"
     ]
    },
    {
     "name": "stderr",
     "output_type": "stream",
     "text": [
      "/home/hspitzer/miniconda3/envs/cellseg/lib/python3.12/functools.py:944: UserWarning: The index of the dataframe is not monotonic increasing. It is recommended to sort the data to adjust the order of the index before calling .parse() (or call `parse(sort=True)`) to avoid possible problems due to unknown divisions.\n",
      "  return method.__get__(obj, cls)(*args, **kwargs)\n",
      "/home/hspitzer/miniconda3/envs/cellseg/lib/python3.12/site-packages/anndata/_core/anndata.py:401: FutureWarning: The dtype argument is deprecated and will be removed in late 2024.\n",
      "  warnings.warn(\n"
     ]
    },
    {
     "name": "stdout",
     "output_type": "stream",
     "text": [
      "\u001b[34mINFO    \u001b[0m The Zarr backing store has been changed from \u001b[3;35mNone\u001b[0m the new file path:                                      \n",
      "         \u001b[35m/home/hspitzer/projects/cellseg_benchmark/data/processed_data/FOXF2/SLIDE2/REGION1/\u001b[0m\u001b[95msdata.zarr\u001b[0m             \n"
     ]
    }
   ],
   "source": [
    "sdata = spatialdata_io.merscope(merfish_results, z_layers=None, cells_boundaries=True, mosaic_images=False, slide_name=slide_name, region_name=region_name)\n",
    "# save sdata\n",
    "os.makedirs(os.path.dirname(sdata_file), exist_ok=True)\n",
    "sdata.write(sdata_file, overwrite=True)"
   ]
  },
  {
   "cell_type": "markdown",
   "id": "9a11e795-34bc-43d5-a870-ccc1a9c8d295",
   "metadata": {},
   "source": [
    "## 2. Add pixel level factors"
   ]
  },
  {
   "cell_type": "code",
   "execution_count": 45,
   "id": "da81ea1d",
   "metadata": {},
   "outputs": [],
   "source": [
    "# needed for \"2. Add pixel level factors and 3. Calculate transcript level factors\"\n",
    "#ficture_name = 'nF25_d5'\n",
    "#pixel_level_factors_file = '/home/hspitzer/projects/cellseg_benchmark/data/ficture_output/r1/analysis/nF25.d_5/nF25.d_5.prj_6.r_4_5.pixel.sorted.tsv.gz'\n",
    "\n",
    "ficture_name = 'nF25_d6'\n",
    "pixel_level_factors_file = '/home/hspitzer/projects/cellseg_benchmark/data/ficture_output/r1/analysis/nF25.d_6/nF25.d_6.prj_6.r_4_5.pixel.sorted.tsv.gz'"
   ]
  },
  {
   "cell_type": "code",
   "execution_count": 46,
   "id": "f080d312",
   "metadata": {},
   "outputs": [],
   "source": [
    "sdata = spatialdata.read_zarr(sdata_file)"
   ]
  },
  {
   "cell_type": "code",
   "execution_count": 47,
   "id": "092f5c27-1385-492c-a36c-bc4bbc2640da",
   "metadata": {},
   "outputs": [
    {
     "data": {
      "text/plain": [
       "{'K': '25',\n",
       " 'TOPK': '3',\n",
       " 'BLOCK_SIZE': '2000',\n",
       " 'BLOCK_AXIS': 'X',\n",
       " 'INDEX_AXIS': 'Y',\n",
       " 'OFFSET_X': '173.92',\n",
       " 'OFFSET_Y': '-47.43',\n",
       " 'SIZE_X': '7065',\n",
       " 'SIZE_Y': '5849',\n",
       " 'SCALE': '100'}"
      ]
     },
     "execution_count": 47,
     "metadata": {},
     "output_type": "execute_result"
    }
   ],
   "source": [
    "# read metadata\n",
    "metadata = {}\n",
    "with gzip.open(pixel_level_factors_file,'rb') as f:\n",
    "    i = 0\n",
    "    for line in f:\n",
    "        line = line.decode()\n",
    "        if i < 3:\n",
    "            # read metadata from file\n",
    "            for s in line.strip().strip('#').split(';'):\n",
    "                k,v = s.split('=')\n",
    "                metadata[k] = v\n",
    "        if i == 3:\n",
    "            break\n",
    "        i+=1 \n",
    "\n",
    "metadata  "
   ]
  },
  {
   "cell_type": "code",
   "execution_count": 48,
   "id": "dfa2e07a-b4be-4900-96c9-ce7603d17605",
   "metadata": {},
   "outputs": [],
   "source": [
    "# read data\n",
    "df = pd.read_table(gzip.open(pixel_level_factors_file, 'rb'), skiprows=3, header=0, engine='c')\n",
    "\n",
    "# create um coords in df\n",
    "scale = float(metadata['SCALE'])\n",
    "offset_x = float(metadata['OFFSET_X'])\n",
    "offset_y = float(metadata['OFFSET_Y'])\n",
    "\n",
    "df['X_um'] = df['X'] / scale + offset_x\n",
    "df['Y_um'] = df['Y'] / scale + offset_y\n",
    "\n",
    "# sort for potentially more efficieny\n",
    "df = df.sort_values(['X_um', 'Y_um'])\n",
    "\n",
    "# rename for adding to spatialdata\n",
    "df = df.rename(columns={'X_um':'x', 'Y_um':'y', 'Y':'Y_px', 'X':'X_px'})"
   ]
  },
  {
   "cell_type": "code",
   "execution_count": 49,
   "id": "ce49966f-2925-4a7f-8095-3b0f2d66986b",
   "metadata": {},
   "outputs": [],
   "source": [
    "# create dask dataframe\n",
    "dask_df = dd.from_pandas(df, npartitions=96)\n",
    "parsed = PointsModel.parse(dask_df)"
   ]
  },
  {
   "cell_type": "code",
   "execution_count": 50,
   "id": "66941d7f-e37a-4c08-a88e-26aa7a8af754",
   "metadata": {},
   "outputs": [
    {
     "data": {
      "text/html": [
       "<div><strong>Dask DataFrame Structure:</strong></div>\n",
       "<div>\n",
       "<style scoped>\n",
       "    .dataframe tbody tr th:only-of-type {\n",
       "        vertical-align: middle;\n",
       "    }\n",
       "\n",
       "    .dataframe tbody tr th {\n",
       "        vertical-align: top;\n",
       "    }\n",
       "\n",
       "    .dataframe thead th {\n",
       "        text-align: right;\n",
       "    }\n",
       "</style>\n",
       "<table border=\"1\" class=\"dataframe\">\n",
       "  <thead>\n",
       "    <tr style=\"text-align: right;\">\n",
       "      <th></th>\n",
       "      <th>#BLOCK</th>\n",
       "      <th>X_px</th>\n",
       "      <th>Y_px</th>\n",
       "      <th>K1</th>\n",
       "      <th>K2</th>\n",
       "      <th>K3</th>\n",
       "      <th>P1</th>\n",
       "      <th>P2</th>\n",
       "      <th>P3</th>\n",
       "      <th>x</th>\n",
       "      <th>y</th>\n",
       "    </tr>\n",
       "    <tr>\n",
       "      <th>npartitions=96</th>\n",
       "      <th></th>\n",
       "      <th></th>\n",
       "      <th></th>\n",
       "      <th></th>\n",
       "      <th></th>\n",
       "      <th></th>\n",
       "      <th></th>\n",
       "      <th></th>\n",
       "      <th></th>\n",
       "      <th></th>\n",
       "      <th></th>\n",
       "    </tr>\n",
       "  </thead>\n",
       "  <tbody>\n",
       "    <tr>\n",
       "      <th>0</th>\n",
       "      <td>int64</td>\n",
       "      <td>int64</td>\n",
       "      <td>int64</td>\n",
       "      <td>int64</td>\n",
       "      <td>int64</td>\n",
       "      <td>int64</td>\n",
       "      <td>float64</td>\n",
       "      <td>float64</td>\n",
       "      <td>float64</td>\n",
       "      <td>float64</td>\n",
       "      <td>float64</td>\n",
       "    </tr>\n",
       "    <tr>\n",
       "      <th>960757</th>\n",
       "      <td>...</td>\n",
       "      <td>...</td>\n",
       "      <td>...</td>\n",
       "      <td>...</td>\n",
       "      <td>...</td>\n",
       "      <td>...</td>\n",
       "      <td>...</td>\n",
       "      <td>...</td>\n",
       "      <td>...</td>\n",
       "      <td>...</td>\n",
       "      <td>...</td>\n",
       "    </tr>\n",
       "    <tr>\n",
       "      <th>...</th>\n",
       "      <td>...</td>\n",
       "      <td>...</td>\n",
       "      <td>...</td>\n",
       "      <td>...</td>\n",
       "      <td>...</td>\n",
       "      <td>...</td>\n",
       "      <td>...</td>\n",
       "      <td>...</td>\n",
       "      <td>...</td>\n",
       "      <td>...</td>\n",
       "      <td>...</td>\n",
       "    </tr>\n",
       "    <tr>\n",
       "      <th>91271884</th>\n",
       "      <td>...</td>\n",
       "      <td>...</td>\n",
       "      <td>...</td>\n",
       "      <td>...</td>\n",
       "      <td>...</td>\n",
       "      <td>...</td>\n",
       "      <td>...</td>\n",
       "      <td>...</td>\n",
       "      <td>...</td>\n",
       "      <td>...</td>\n",
       "      <td>...</td>\n",
       "    </tr>\n",
       "    <tr>\n",
       "      <th>92232639</th>\n",
       "      <td>...</td>\n",
       "      <td>...</td>\n",
       "      <td>...</td>\n",
       "      <td>...</td>\n",
       "      <td>...</td>\n",
       "      <td>...</td>\n",
       "      <td>...</td>\n",
       "      <td>...</td>\n",
       "      <td>...</td>\n",
       "      <td>...</td>\n",
       "      <td>...</td>\n",
       "    </tr>\n",
       "  </tbody>\n",
       "</table>\n",
       "</div>\n",
       "<div>Dask Name: getitem, 22 graph layers</div>"
      ],
      "text/plain": [
       "Dask DataFrame Structure:\n",
       "               #BLOCK   X_px   Y_px     K1     K2     K3       P1       P2       P3        x        y\n",
       "npartitions=96                                                                                       \n",
       "0               int64  int64  int64  int64  int64  int64  float64  float64  float64  float64  float64\n",
       "960757            ...    ...    ...    ...    ...    ...      ...      ...      ...      ...      ...\n",
       "...               ...    ...    ...    ...    ...    ...      ...      ...      ...      ...      ...\n",
       "91271884          ...    ...    ...    ...    ...    ...      ...      ...      ...      ...      ...\n",
       "92232639          ...    ...    ...    ...    ...    ...      ...      ...      ...      ...      ...\n",
       "Dask Name: getitem, 22 graph layers"
      ]
     },
     "execution_count": 50,
     "metadata": {},
     "output_type": "execute_result"
    }
   ],
   "source": [
    "parsed"
   ]
  },
  {
   "cell_type": "code",
   "execution_count": 51,
   "id": "f54c0f4e-9752-4f4d-ac5b-cc999b8819f9",
   "metadata": {},
   "outputs": [],
   "source": [
    "sdata[f'{slide_name}_{region_name}_{ficture_name}_pixel_factors'] = parsed"
   ]
  },
  {
   "cell_type": "code",
   "execution_count": 52,
   "id": "9a9002cb",
   "metadata": {},
   "outputs": [
    {
     "data": {
      "text/plain": [
       "SpatialData object, with associated Zarr store: /home/hspitzer/projects/cellseg_benchmark/data/processed_data/FOXF2/SLIDE2/REGION1/sdata.zarr\n",
       "├── Points\n",
       "│     ├── 'slide2_region1_nF25_d5_pixel_factors': DataFrame with shape: (<Delayed>, 11) (2D points)\n",
       "│     ├── 'slide2_region1_nF25_d6_pixel_factors': DataFrame with shape: (<Delayed>, 11) (2D points)\n",
       "│     └── 'slide2_region1_transcripts': DataFrame with shape: (<Delayed>, 10) (2D points)\n",
       "├── Shapes\n",
       "│     └── 'slide2_region1_polygons': GeoDataFrame shape: (107013, 9) (2D shapes)\n",
       "└── Tables\n",
       "      └── 'table': AnnData (107013, 500)\n",
       "with coordinate systems:\n",
       "    ▸ 'global', with elements:\n",
       "        slide2_region1_nF25_d5_pixel_factors (Points), slide2_region1_nF25_d6_pixel_factors (Points), slide2_region1_transcripts (Points), slide2_region1_polygons (Shapes)\n",
       "with the following elements not in the Zarr store:\n",
       "    ▸ slide2_region1_nF25_d6_pixel_factors (Points)"
      ]
     },
     "execution_count": 52,
     "metadata": {},
     "output_type": "execute_result"
    }
   ],
   "source": [
    "sdata"
   ]
  },
  {
   "cell_type": "code",
   "execution_count": 53,
   "id": "bd622de9",
   "metadata": {},
   "outputs": [],
   "source": [
    "# update sdata\n",
    "sdata.write_element(f'{slide_name}_{region_name}_{ficture_name}_pixel_factors', overwrite=True)"
   ]
  },
  {
   "cell_type": "markdown",
   "id": "b533e0dc-eb70-4323-a472-90e95a65362e",
   "metadata": {},
   "source": [
    "## 3. Add transcript level factors"
   ]
  },
  {
   "cell_type": "code",
   "execution_count": 54,
   "id": "2e0efadd-5880-476d-bc52-dcb4707fb491",
   "metadata": {},
   "outputs": [],
   "source": [
    "# set up KDTree for efficient querying\n",
    "coords = np.array([df['x'], df['y']]).T\n",
    "tree = KDTree(coords, leafsize=10, compact_nodes=True, copy_data=False, balanced_tree=True)"
   ]
  },
  {
   "cell_type": "code",
   "execution_count": 55,
   "id": "d86a4181-8405-4e80-b17e-e45083a624f5",
   "metadata": {},
   "outputs": [
    {
     "name": "stderr",
     "output_type": "stream",
     "text": [
      "/home/hspitzer/miniconda3/envs/cellseg/lib/python3.12/site-packages/spatialdata/_core/_elements.py:106: UserWarning: Key `slide2_region1_transcripts` already exists. Overwriting it in-memory.\n",
      "  self._check_key(key, self.keys(), self._shared_keys)\n"
     ]
    }
   ],
   "source": [
    "def get_transcript_level_factors(transcripts):\n",
    "    # query tree to get nearest pixels and according factor assignment\n",
    "    query = np.array([transcripts['x'], transcripts['y']]).T\n",
    "    dd, ii = tree.query(query)\n",
    "    # get factor prediction from df\n",
    "    factor = np.array(df.iloc[ii]['K1'])\n",
    "    # where distance > 5 um set factor to max_factor to indicate that this transcript was not mapped\n",
    "    factor[dd > 5] = int(metadata['K'])\n",
    "    kwargs = {f'{ficture_name}_factors': factor}\n",
    "    return transcripts.assign(**kwargs)\n",
    "    \n",
    "# calculate transcript_level_factors\n",
    "res = sdata[f'{slide_name}_{region_name}_transcripts'].map_partitions(get_transcript_level_factors)\n",
    "# update transcripts table\n",
    "sdata[f'{slide_name}_{region_name}_transcripts'] = res"
   ]
  },
  {
   "cell_type": "code",
   "execution_count": 56,
   "id": "533e9b2d-d4ab-45ca-aaba-404a53f9f411",
   "metadata": {},
   "outputs": [],
   "source": [
    "# update sdata (and calculate transcript level factors)\n",
    "update_element(sdata, f'{slide_name}_{region_name}_transcripts')"
   ]
  },
  {
   "cell_type": "code",
   "execution_count": 57,
   "id": "fb24f2d4-0739-46f4-b887-74ec5ee64e92",
   "metadata": {},
   "outputs": [
    {
     "data": {
      "text/plain": [
       "SpatialData object, with associated Zarr store: /home/hspitzer/projects/cellseg_benchmark/data/processed_data/FOXF2/SLIDE2/REGION1/sdata.zarr\n",
       "├── Points\n",
       "│     ├── 'slide2_region1_nF25_d5_pixel_factors': DataFrame with shape: (<Delayed>, 11) (2D points)\n",
       "│     ├── 'slide2_region1_nF25_d6_pixel_factors': DataFrame with shape: (<Delayed>, 11) (2D points)\n",
       "│     └── 'slide2_region1_transcripts': DataFrame with shape: (<Delayed>, 11) (2D points)\n",
       "├── Shapes\n",
       "│     └── 'slide2_region1_polygons': GeoDataFrame shape: (107013, 9) (2D shapes)\n",
       "└── Tables\n",
       "      └── 'table': AnnData (107013, 500)\n",
       "with coordinate systems:\n",
       "    ▸ 'global', with elements:\n",
       "        slide2_region1_nF25_d5_pixel_factors (Points), slide2_region1_nF25_d6_pixel_factors (Points), slide2_region1_transcripts (Points), slide2_region1_polygons (Shapes)\n",
       "with the following Dask-backed elements not being self-contained:\n",
       "    ▸ slide2_region1_transcripts: /home/hspitzer/projects/cellseg_benchmark/data/processed_data/FOXF2/SLIDE2/REGION1/sdata.zarr/points/slide2_region1_transcripts_tmp/points.parquet/part.0.parquet, /home/hspitzer/projects/cellseg_benchmark/data/processed_data/FOXF2/SLIDE2/REGION1/sdata.zarr/points/slide2_region1_transcripts_tmp/points.parquet/part.1.parquet, /home/hspitzer/projects/cellseg_benchmark/data/processed_data/FOXF2/SLIDE2/REGION1/sdata.zarr/points/slide2_region1_transcripts_tmp/points.parquet/part.2.parquet, /home/hspitzer/projects/cellseg_benchmark/data/processed_data/FOXF2/SLIDE2/REGION1/sdata.zarr/points/slide2_region1_transcripts_tmp/points.parquet/part.3.parquet, /home/hspitzer/projects/cellseg_benchmark/data/processed_data/FOXF2/SLIDE2/REGION1/sdata.zarr/points/slide2_region1_transcripts_tmp/points.parquet/part.4.parquet, /home/hspitzer/projects/cellseg_benchmark/data/processed_data/FOXF2/SLIDE2/REGION1/sdata.zarr/points/slide2_region1_transcripts_tmp/points.parquet/part.5.parquet, /home/hspitzer/projects/cellseg_benchmark/data/processed_data/FOXF2/SLIDE2/REGION1/sdata.zarr/points/slide2_region1_transcripts_tmp/points.parquet/part.6.parquet, /home/hspitzer/projects/cellseg_benchmark/data/processed_data/FOXF2/SLIDE2/REGION1/sdata.zarr/points/slide2_region1_transcripts_tmp/points.parquet/part.7.parquet, /home/hspitzer/projects/cellseg_benchmark/data/processed_data/FOXF2/SLIDE2/REGION1/sdata.zarr/points/slide2_region1_transcripts_tmp/points.parquet/part.8.parquet, /home/hspitzer/projects/cellseg_benchmark/data/processed_data/FOXF2/SLIDE2/REGION1/sdata.zarr/points/slide2_region1_transcripts_tmp/points.parquet/part.9.parquet, /home/hspitzer/projects/cellseg_benchmark/data/processed_data/FOXF2/SLIDE2/REGION1/sdata.zarr/points/slide2_region1_transcripts_tmp/points.parquet/part.10.parquet, /home/hspitzer/projects/cellseg_benchmark/data/processed_data/FOXF2/SLIDE2/REGION1/sdata.zarr/points/slide2_region1_transcripts_tmp/points.parquet/part.11.parquet, /home/hspitzer/projects/cellseg_benchmark/data/processed_data/FOXF2/SLIDE2/REGION1/sdata.zarr/points/slide2_region1_transcripts_tmp/points.parquet/part.12.parquet, /home/hspitzer/projects/cellseg_benchmark/data/processed_data/FOXF2/SLIDE2/REGION1/sdata.zarr/points/slide2_region1_transcripts_tmp/points.parquet/part.13.parquet, /home/hspitzer/projects/cellseg_benchmark/data/processed_data/FOXF2/SLIDE2/REGION1/sdata.zarr/points/slide2_region1_transcripts_tmp/points.parquet/part.14.parquet, /home/hspitzer/projects/cellseg_benchmark/data/processed_data/FOXF2/SLIDE2/REGION1/sdata.zarr/points/slide2_region1_transcripts_tmp/points.parquet/part.15.parquet, /home/hspitzer/projects/cellseg_benchmark/data/processed_data/FOXF2/SLIDE2/REGION1/sdata.zarr/points/slide2_region1_transcripts_tmp/points.parquet/part.16.parquet, /home/hspitzer/projects/cellseg_benchmark/data/processed_data/FOXF2/SLIDE2/REGION1/sdata.zarr/points/slide2_region1_transcripts_tmp/points.parquet/part.17.parquet, /home/hspitzer/projects/cellseg_benchmark/data/processed_data/FOXF2/SLIDE2/REGION1/sdata.zarr/points/slide2_region1_transcripts_tmp/points.parquet/part.18.parquet, /home/hspitzer/projects/cellseg_benchmark/data/processed_data/FOXF2/SLIDE2/REGION1/sdata.zarr/points/slide2_region1_transcripts_tmp/points.parquet/part.19.parquet, /home/hspitzer/projects/cellseg_benchmark/data/processed_data/FOXF2/SLIDE2/REGION1/sdata.zarr/points/slide2_region1_transcripts_tmp/points.parquet/part.20.parquet, /home/hspitzer/projects/cellseg_benchmark/data/processed_data/FOXF2/SLIDE2/REGION1/sdata.zarr/points/slide2_region1_transcripts_tmp/points.parquet/part.21.parquet, /home/hspitzer/projects/cellseg_benchmark/data/processed_data/FOXF2/SLIDE2/REGION1/sdata.zarr/points/slide2_region1_transcripts_tmp/points.parquet/part.22.parquet, /home/hspitzer/projects/cellseg_benchmark/data/processed_data/FOXF2/SLIDE2/REGION1/sdata.zarr/points/slide2_region1_transcripts_tmp/points.parquet/part.23.parquet, /home/hspitzer/projects/cellseg_benchmark/data/processed_data/FOXF2/SLIDE2/REGION1/sdata.zarr/points/slide2_region1_transcripts_tmp/points.parquet/part.24.parquet, /home/hspitzer/projects/cellseg_benchmark/data/processed_data/FOXF2/SLIDE2/REGION1/sdata.zarr/points/slide2_region1_transcripts_tmp/points.parquet/part.25.parquet, /home/hspitzer/projects/cellseg_benchmark/data/processed_data/FOXF2/SLIDE2/REGION1/sdata.zarr/points/slide2_region1_transcripts_tmp/points.parquet/part.26.parquet, /home/hspitzer/projects/cellseg_benchmark/data/processed_data/FOXF2/SLIDE2/REGION1/sdata.zarr/points/slide2_region1_transcripts_tmp/points.parquet/part.27.parquet, /home/hspitzer/projects/cellseg_benchmark/data/processed_data/FOXF2/SLIDE2/REGION1/sdata.zarr/points/slide2_region1_transcripts_tmp/points.parquet/part.28.parquet, /home/hspitzer/projects/cellseg_benchmark/data/processed_data/FOXF2/SLIDE2/REGION1/sdata.zarr/points/slide2_region1_transcripts_tmp/points.parquet/part.29.parquet, /home/hspitzer/projects/cellseg_benchmark/data/processed_data/FOXF2/SLIDE2/REGION1/sdata.zarr/points/slide2_region1_transcripts_tmp/points.parquet/part.30.parquet, /home/hspitzer/projects/cellseg_benchmark/data/processed_data/FOXF2/SLIDE2/REGION1/sdata.zarr/points/slide2_region1_transcripts_tmp/points.parquet/part.31.parquet, /home/hspitzer/projects/cellseg_benchmark/data/processed_data/FOXF2/SLIDE2/REGION1/sdata.zarr/points/slide2_region1_transcripts_tmp/points.parquet/part.32.parquet, /home/hspitzer/projects/cellseg_benchmark/data/processed_data/FOXF2/SLIDE2/REGION1/sdata.zarr/points/slide2_region1_transcripts_tmp/points.parquet/part.33.parquet, /home/hspitzer/projects/cellseg_benchmark/data/processed_data/FOXF2/SLIDE2/REGION1/sdata.zarr/points/slide2_region1_transcripts_tmp/points.parquet/part.34.parquet, /home/hspitzer/projects/cellseg_benchmark/data/processed_data/FOXF2/SLIDE2/REGION1/sdata.zarr/points/slide2_region1_transcripts_tmp/points.parquet/part.35.parquet, /home/hspitzer/projects/cellseg_benchmark/data/processed_data/FOXF2/SLIDE2/REGION1/sdata.zarr/points/slide2_region1_transcripts_tmp/points.parquet/part.36.parquet, /home/hspitzer/projects/cellseg_benchmark/data/processed_data/FOXF2/SLIDE2/REGION1/sdata.zarr/points/slide2_region1_transcripts_tmp/points.parquet/part.37.parquet, /home/hspitzer/projects/cellseg_benchmark/data/processed_data/FOXF2/SLIDE2/REGION1/sdata.zarr/points/slide2_region1_transcripts_tmp/points.parquet/part.38.parquet, /home/hspitzer/projects/cellseg_benchmark/data/processed_data/FOXF2/SLIDE2/REGION1/sdata.zarr/points/slide2_region1_transcripts_tmp/points.parquet/part.39.parquet, /home/hspitzer/projects/cellseg_benchmark/data/processed_data/FOXF2/SLIDE2/REGION1/sdata.zarr/points/slide2_region1_transcripts_tmp/points.parquet/part.40.parquet, /home/hspitzer/projects/cellseg_benchmark/data/processed_data/FOXF2/SLIDE2/REGION1/sdata.zarr/points/slide2_region1_transcripts_tmp/points.parquet/part.41.parquet, /home/hspitzer/projects/cellseg_benchmark/data/processed_data/FOXF2/SLIDE2/REGION1/sdata.zarr/points/slide2_region1_transcripts_tmp/points.parquet/part.42.parquet, /home/hspitzer/projects/cellseg_benchmark/data/processed_data/FOXF2/SLIDE2/REGION1/sdata.zarr/points/slide2_region1_transcripts_tmp/points.parquet/part.43.parquet, /home/hspitzer/projects/cellseg_benchmark/data/processed_data/FOXF2/SLIDE2/REGION1/sdata.zarr/points/slide2_region1_transcripts_tmp/points.parquet/part.44.parquet, /home/hspitzer/projects/cellseg_benchmark/data/processed_data/FOXF2/SLIDE2/REGION1/sdata.zarr/points/slide2_region1_transcripts_tmp/points.parquet/part.45.parquet, /home/hspitzer/projects/cellseg_benchmark/data/processed_data/FOXF2/SLIDE2/REGION1/sdata.zarr/points/slide2_region1_transcripts_tmp/points.parquet/part.46.parquet, /home/hspitzer/projects/cellseg_benchmark/data/processed_data/FOXF2/SLIDE2/REGION1/sdata.zarr/points/slide2_region1_transcripts_tmp/points.parquet/part.47.parquet, /home/hspitzer/projects/cellseg_benchmark/data/processed_data/FOXF2/SLIDE2/REGION1/sdata.zarr/points/slide2_region1_transcripts_tmp/points.parquet/part.48.parquet, /home/hspitzer/projects/cellseg_benchmark/data/processed_data/FOXF2/SLIDE2/REGION1/sdata.zarr/points/slide2_region1_transcripts_tmp/points.parquet/part.49.parquet, /home/hspitzer/projects/cellseg_benchmark/data/processed_data/FOXF2/SLIDE2/REGION1/sdata.zarr/points/slide2_region1_transcripts_tmp/points.parquet/part.50.parquet, /home/hspitzer/projects/cellseg_benchmark/data/processed_data/FOXF2/SLIDE2/REGION1/sdata.zarr/points/slide2_region1_transcripts_tmp/points.parquet/part.51.parquet, /home/hspitzer/projects/cellseg_benchmark/data/processed_data/FOXF2/SLIDE2/REGION1/sdata.zarr/points/slide2_region1_transcripts_tmp/points.parquet/part.52.parquet, /home/hspitzer/projects/cellseg_benchmark/data/processed_data/FOXF2/SLIDE2/REGION1/sdata.zarr/points/slide2_region1_transcripts_tmp/points.parquet/part.53.parquet, /home/hspitzer/projects/cellseg_benchmark/data/processed_data/FOXF2/SLIDE2/REGION1/sdata.zarr/points/slide2_region1_transcripts_tmp/points.parquet/part.54.parquet, /home/hspitzer/projects/cellseg_benchmark/data/processed_data/FOXF2/SLIDE2/REGION1/sdata.zarr/points/slide2_region1_transcripts_tmp/points.parquet/part.55.parquet, /home/hspitzer/projects/cellseg_benchmark/data/processed_data/FOXF2/SLIDE2/REGION1/sdata.zarr/points/slide2_region1_transcripts_tmp/points.parquet/part.56.parquet, /home/hspitzer/projects/cellseg_benchmark/data/processed_data/FOXF2/SLIDE2/REGION1/sdata.zarr/points/slide2_region1_transcripts_tmp/points.parquet/part.57.parquet, /home/hspitzer/projects/cellseg_benchmark/data/processed_data/FOXF2/SLIDE2/REGION1/sdata.zarr/points/slide2_region1_transcripts_tmp/points.parquet/part.58.parquet, /home/hspitzer/projects/cellseg_benchmark/data/processed_data/FOXF2/SLIDE2/REGION1/sdata.zarr/points/slide2_region1_transcripts_tmp/points.parquet/part.59.parquet, /home/hspitzer/projects/cellseg_benchmark/data/processed_data/FOXF2/SLIDE2/REGION1/sdata.zarr/points/slide2_region1_transcripts_tmp/points.parquet/part.60.parquet, /home/hspitzer/projects/cellseg_benchmark/data/processed_data/FOXF2/SLIDE2/REGION1/sdata.zarr/points/slide2_region1_transcripts_tmp/points.parquet/part.61.parquet, /home/hspitzer/projects/cellseg_benchmark/data/processed_data/FOXF2/SLIDE2/REGION1/sdata.zarr/points/slide2_region1_transcripts_tmp/points.parquet/part.62.parquet, /home/hspitzer/projects/cellseg_benchmark/data/processed_data/FOXF2/SLIDE2/REGION1/sdata.zarr/points/slide2_region1_transcripts_tmp/points.parquet/part.63.parquet, /home/hspitzer/projects/cellseg_benchmark/data/processed_data/FOXF2/SLIDE2/REGION1/sdata.zarr/points/slide2_region1_transcripts_tmp/points.parquet/part.64.parquet, /home/hspitzer/projects/cellseg_benchmark/data/processed_data/FOXF2/SLIDE2/REGION1/sdata.zarr/points/slide2_region1_transcripts_tmp/points.parquet/part.65.parquet, /home/hspitzer/projects/cellseg_benchmark/data/processed_data/FOXF2/SLIDE2/REGION1/sdata.zarr/points/slide2_region1_transcripts_tmp/points.parquet/part.66.parquet, /home/hspitzer/projects/cellseg_benchmark/data/processed_data/FOXF2/SLIDE2/REGION1/sdata.zarr/points/slide2_region1_transcripts_tmp/points.parquet/part.67.parquet, /home/hspitzer/projects/cellseg_benchmark/data/processed_data/FOXF2/SLIDE2/REGION1/sdata.zarr/points/slide2_region1_transcripts_tmp/points.parquet/part.68.parquet, /home/hspitzer/projects/cellseg_benchmark/data/processed_data/FOXF2/SLIDE2/REGION1/sdata.zarr/points/slide2_region1_transcripts_tmp/points.parquet/part.69.parquet, /home/hspitzer/projects/cellseg_benchmark/data/processed_data/FOXF2/SLIDE2/REGION1/sdata.zarr/points/slide2_region1_transcripts_tmp/points.parquet/part.70.parquet, /home/hspitzer/projects/cellseg_benchmark/data/processed_data/FOXF2/SLIDE2/REGION1/sdata.zarr/points/slide2_region1_transcripts_tmp/points.parquet/part.71.parquet, /home/hspitzer/projects/cellseg_benchmark/data/processed_data/FOXF2/SLIDE2/REGION1/sdata.zarr/points/slide2_region1_transcripts_tmp/points.parquet/part.72.parquet, /home/hspitzer/projects/cellseg_benchmark/data/processed_data/FOXF2/SLIDE2/REGION1/sdata.zarr/points/slide2_region1_transcripts_tmp/points.parquet/part.73.parquet, /home/hspitzer/projects/cellseg_benchmark/data/processed_data/FOXF2/SLIDE2/REGION1/sdata.zarr/points/slide2_region1_transcripts_tmp/points.parquet/part.74.parquet, /home/hspitzer/projects/cellseg_benchmark/data/processed_data/FOXF2/SLIDE2/REGION1/sdata.zarr/points/slide2_region1_transcripts_tmp/points.parquet/part.75.parquet, /home/hspitzer/projects/cellseg_benchmark/data/processed_data/FOXF2/SLIDE2/REGION1/sdata.zarr/points/slide2_region1_transcripts_tmp/points.parquet/part.76.parquet, /home/hspitzer/projects/cellseg_benchmark/data/processed_data/FOXF2/SLIDE2/REGION1/sdata.zarr/points/slide2_region1_transcripts_tmp/points.parquet/part.77.parquet, /home/hspitzer/projects/cellseg_benchmark/data/processed_data/FOXF2/SLIDE2/REGION1/sdata.zarr/points/slide2_region1_transcripts_tmp/points.parquet/part.78.parquet, /home/hspitzer/projects/cellseg_benchmark/data/processed_data/FOXF2/SLIDE2/REGION1/sdata.zarr/points/slide2_region1_transcripts_tmp/points.parquet/part.79.parquet, /home/hspitzer/projects/cellseg_benchmark/data/processed_data/FOXF2/SLIDE2/REGION1/sdata.zarr/points/slide2_region1_transcripts_tmp/points.parquet/part.80.parquet, /home/hspitzer/projects/cellseg_benchmark/data/processed_data/FOXF2/SLIDE2/REGION1/sdata.zarr/points/slide2_region1_transcripts_tmp/points.parquet/part.81.parquet, /home/hspitzer/projects/cellseg_benchmark/data/processed_data/FOXF2/SLIDE2/REGION1/sdata.zarr/points/slide2_region1_transcripts_tmp/points.parquet/part.82.parquet, /home/hspitzer/projects/cellseg_benchmark/data/processed_data/FOXF2/SLIDE2/REGION1/sdata.zarr/points/slide2_region1_transcripts_tmp/points.parquet/part.83.parquet, /home/hspitzer/projects/cellseg_benchmark/data/processed_data/FOXF2/SLIDE2/REGION1/sdata.zarr/points/slide2_region1_transcripts_tmp/points.parquet/part.84.parquet, /home/hspitzer/projects/cellseg_benchmark/data/processed_data/FOXF2/SLIDE2/REGION1/sdata.zarr/points/slide2_region1_transcripts_tmp/points.parquet/part.85.parquet, /home/hspitzer/projects/cellseg_benchmark/data/processed_data/FOXF2/SLIDE2/REGION1/sdata.zarr/points/slide2_region1_transcripts_tmp/points.parquet/part.86.parquet, /home/hspitzer/projects/cellseg_benchmark/data/processed_data/FOXF2/SLIDE2/REGION1/sdata.zarr/points/slide2_region1_transcripts_tmp/points.parquet/part.87.parquet, /home/hspitzer/projects/cellseg_benchmark/data/processed_data/FOXF2/SLIDE2/REGION1/sdata.zarr/points/slide2_region1_transcripts_tmp/points.parquet/part.88.parquet, /home/hspitzer/projects/cellseg_benchmark/data/processed_data/FOXF2/SLIDE2/REGION1/sdata.zarr/points/slide2_region1_transcripts_tmp/points.parquet/part.89.parquet, /home/hspitzer/projects/cellseg_benchmark/data/processed_data/FOXF2/SLIDE2/REGION1/sdata.zarr/points/slide2_region1_transcripts_tmp/points.parquet/part.90.parquet, /home/hspitzer/projects/cellseg_benchmark/data/processed_data/FOXF2/SLIDE2/REGION1/sdata.zarr/points/slide2_region1_transcripts_tmp/points.parquet/part.91.parquet, /home/hspitzer/projects/cellseg_benchmark/data/processed_data/FOXF2/SLIDE2/REGION1/sdata.zarr/points/slide2_region1_transcripts_tmp/points.parquet/part.92.parquet, /home/hspitzer/projects/cellseg_benchmark/data/processed_data/FOXF2/SLIDE2/REGION1/sdata.zarr/points/slide2_region1_transcripts_tmp/points.parquet/part.93.parquet, /home/hspitzer/projects/cellseg_benchmark/data/processed_data/FOXF2/SLIDE2/REGION1/sdata.zarr/points/slide2_region1_transcripts_tmp/points.parquet/part.94.parquet, /home/hspitzer/projects/cellseg_benchmark/data/processed_data/FOXF2/SLIDE2/REGION1/sdata.zarr/points/slide2_region1_transcripts_tmp/points.parquet/part.95.parquet"
      ]
     },
     "execution_count": 57,
     "metadata": {},
     "output_type": "execute_result"
    }
   ],
   "source": [
    "sdata"
   ]
  },
  {
   "cell_type": "code",
   "execution_count": 58,
   "id": "9c4249a0-bb16-4aa8-b87c-09334a6f57f9",
   "metadata": {},
   "outputs": [
    {
     "data": {
      "text/html": [
       "<div><strong>Dask DataFrame Structure:</strong></div>\n",
       "<div>\n",
       "<style scoped>\n",
       "    .dataframe tbody tr th:only-of-type {\n",
       "        vertical-align: middle;\n",
       "    }\n",
       "\n",
       "    .dataframe tbody tr th {\n",
       "        vertical-align: top;\n",
       "    }\n",
       "\n",
       "    .dataframe thead th {\n",
       "        text-align: right;\n",
       "    }\n",
       "</style>\n",
       "<table border=\"1\" class=\"dataframe\">\n",
       "  <thead>\n",
       "    <tr style=\"text-align: right;\">\n",
       "      <th></th>\n",
       "      <th>x</th>\n",
       "      <th>y</th>\n",
       "      <th>barcode_id</th>\n",
       "      <th>Unnamed: 0</th>\n",
       "      <th>cell_id</th>\n",
       "      <th>global_z</th>\n",
       "      <th>gene</th>\n",
       "      <th>fov</th>\n",
       "      <th>transcript_id</th>\n",
       "      <th>nF25_d5_factors</th>\n",
       "      <th>nF25_d6_factors</th>\n",
       "    </tr>\n",
       "    <tr>\n",
       "      <th>npartitions=96</th>\n",
       "      <th></th>\n",
       "      <th></th>\n",
       "      <th></th>\n",
       "      <th></th>\n",
       "      <th></th>\n",
       "      <th></th>\n",
       "      <th></th>\n",
       "      <th></th>\n",
       "      <th></th>\n",
       "      <th></th>\n",
       "      <th></th>\n",
       "    </tr>\n",
       "  </thead>\n",
       "  <tbody>\n",
       "    <tr>\n",
       "      <th></th>\n",
       "      <td>float64</td>\n",
       "      <td>float64</td>\n",
       "      <td>int64</td>\n",
       "      <td>int64</td>\n",
       "      <td>int64</td>\n",
       "      <td>float64</td>\n",
       "      <td>category[known]</td>\n",
       "      <td>int64</td>\n",
       "      <td>string</td>\n",
       "      <td>int64</td>\n",
       "      <td>int64</td>\n",
       "    </tr>\n",
       "    <tr>\n",
       "      <th></th>\n",
       "      <td>...</td>\n",
       "      <td>...</td>\n",
       "      <td>...</td>\n",
       "      <td>...</td>\n",
       "      <td>...</td>\n",
       "      <td>...</td>\n",
       "      <td>...</td>\n",
       "      <td>...</td>\n",
       "      <td>...</td>\n",
       "      <td>...</td>\n",
       "      <td>...</td>\n",
       "    </tr>\n",
       "    <tr>\n",
       "      <th>...</th>\n",
       "      <td>...</td>\n",
       "      <td>...</td>\n",
       "      <td>...</td>\n",
       "      <td>...</td>\n",
       "      <td>...</td>\n",
       "      <td>...</td>\n",
       "      <td>...</td>\n",
       "      <td>...</td>\n",
       "      <td>...</td>\n",
       "      <td>...</td>\n",
       "      <td>...</td>\n",
       "    </tr>\n",
       "    <tr>\n",
       "      <th></th>\n",
       "      <td>...</td>\n",
       "      <td>...</td>\n",
       "      <td>...</td>\n",
       "      <td>...</td>\n",
       "      <td>...</td>\n",
       "      <td>...</td>\n",
       "      <td>...</td>\n",
       "      <td>...</td>\n",
       "      <td>...</td>\n",
       "      <td>...</td>\n",
       "      <td>...</td>\n",
       "    </tr>\n",
       "    <tr>\n",
       "      <th></th>\n",
       "      <td>...</td>\n",
       "      <td>...</td>\n",
       "      <td>...</td>\n",
       "      <td>...</td>\n",
       "      <td>...</td>\n",
       "      <td>...</td>\n",
       "      <td>...</td>\n",
       "      <td>...</td>\n",
       "      <td>...</td>\n",
       "      <td>...</td>\n",
       "      <td>...</td>\n",
       "    </tr>\n",
       "  </tbody>\n",
       "</table>\n",
       "</div>\n",
       "<div>Dask Name: assign, 4 graph layers</div>"
      ],
      "text/plain": [
       "Dask DataFrame Structure:\n",
       "                      x        y barcode_id Unnamed: 0 cell_id global_z             gene    fov transcript_id nF25_d5_factors nF25_d6_factors\n",
       "npartitions=96                                                                                                                               \n",
       "                float64  float64      int64      int64   int64  float64  category[known]  int64        string           int64           int64\n",
       "                    ...      ...        ...        ...     ...      ...              ...    ...           ...             ...             ...\n",
       "...                 ...      ...        ...        ...     ...      ...              ...    ...           ...             ...             ...\n",
       "                    ...      ...        ...        ...     ...      ...              ...    ...           ...             ...             ...\n",
       "                    ...      ...        ...        ...     ...      ...              ...    ...           ...             ...             ...\n",
       "Dask Name: assign, 4 graph layers"
      ]
     },
     "execution_count": 58,
     "metadata": {},
     "output_type": "execute_result"
    }
   ],
   "source": [
    "sdata[f'{slide_name}_{region_name}_transcripts']"
   ]
  },
  {
   "cell_type": "markdown",
   "id": "ff104d7e",
   "metadata": {},
   "source": [
    "## Read images that were downloaded later"
   ]
  },
  {
   "cell_type": "code",
   "execution_count": null,
   "id": "7ff524fc",
   "metadata": {},
   "outputs": [],
   "source": []
  }
 ],
 "metadata": {
  "kernelspec": {
   "display_name": "Python 3 (ipykernel)",
   "language": "python",
   "name": "python3"
  }
 },
 "nbformat": 4,
 "nbformat_minor": 5
}
